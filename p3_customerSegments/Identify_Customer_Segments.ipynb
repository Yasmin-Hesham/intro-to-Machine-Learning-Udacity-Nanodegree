{
 "cells": [
  {
   "cell_type": "markdown",
   "metadata": {},
   "source": [
    "# Project: Identify Customer Segments\n",
    "\n",
    "In this project, you will apply unsupervised learning techniques to identify segments of the population that form the core customer base for a mail-order sales company in Germany. These segments can then be used to direct marketing campaigns towards audiences that will have the highest expected rate of returns. The data that you will use has been provided by our partners at Bertelsmann Arvato Analytics, and represents a real-life data science task.\n",
    "\n",
    "This notebook will help you complete this task by providing a framework within which you will perform your analysis steps. In each step of the project, you will see some text describing the subtask that you will perform, followed by one or more code cells for you to complete your work. **Feel free to add additional code and markdown cells as you go along so that you can explore everything in precise chunks.** The code cells provided in the base template will outline only the major tasks, and will usually not be enough to cover all of the minor tasks that comprise it.\n",
    "\n",
    "It should be noted that while there will be precise guidelines on how you should handle certain tasks in the project, there will also be places where an exact specification is not provided. **There will be times in the project where you will need to make and justify your own decisions on how to treat the data.** These are places where there may not be only one way to handle the data. In real-life tasks, there may be many valid ways to approach an analysis task. One of the most important things you can do is clearly document your approach so that other scientists can understand the decisions you've made.\n",
    "\n",
    "At the end of most sections, there will be a Markdown cell labeled **Discussion**. In these cells, you will report your findings for the completed section, as well as document the decisions that you made in your approach to each subtask. **Your project will be evaluated not just on the code used to complete the tasks outlined, but also your communication about your observations and conclusions at each stage.**"
   ]
  },
  {
   "cell_type": "code",
   "execution_count": 124,
   "metadata": {},
   "outputs": [
    {
     "data": {
      "text/plain": [
       "'\\nImport note: The classroom currently uses sklearn version 0.19.\\nIf you need to use an imputer, it is available in sklearn.preprocessing.Imputer,\\ninstead of sklearn.impute as in newer versions of sklearn.\\n'"
      ]
     },
     "execution_count": 124,
     "metadata": {},
     "output_type": "execute_result"
    }
   ],
   "source": [
    "# import libraries here; add more as necessary\n",
    "import numpy as np\n",
    "import pandas as pd\n",
    "import matplotlib.pyplot as plt\n",
    "import seaborn as sns\n",
    "\n",
    "# magic word for producing visualizations in notebook\n",
    "%matplotlib inline\n",
    "\n",
    "'''\n",
    "Import note: The classroom currently uses sklearn version 0.19.\n",
    "If you need to use an imputer, it is available in sklearn.preprocessing.Imputer,\n",
    "instead of sklearn.impute as in newer versions of sklearn.\n",
    "'''"
   ]
  },
  {
   "cell_type": "markdown",
   "metadata": {},
   "source": [
    "### Step 0: Load the Data\n",
    "\n",
    "There are four files associated with this project (not including this one):\n",
    "\n",
    "- `Udacity_AZDIAS_Subset.csv`: Demographics data for the general population of Germany; 891211 persons (rows) x 85 features (columns).\n",
    "- `Udacity_CUSTOMERS_Subset.csv`: Demographics data for customers of a mail-order company; 191652 persons (rows) x 85 features (columns).\n",
    "- `Data_Dictionary.md`: Detailed information file about the features in the provided datasets.\n",
    "- `AZDIAS_Feature_Summary.csv`: Summary of feature attributes for demographics data; 85 features (rows) x 4 columns\n",
    "\n",
    "Each row of the demographics files represents a single person, but also includes information outside of individuals, including information about their household, building, and neighborhood. You will use this information to cluster the general population into groups with similar demographic properties. Then, you will see how the people in the customers dataset fit into those created clusters. The hope here is that certain clusters are over-represented in the customers data, as compared to the general population; those over-represented clusters will be assumed to be part of the core userbase. This information can then be used for further applications, such as targeting for a marketing campaign.\n",
    "\n",
    "To start off with, load in the demographics data for the general population into a pandas DataFrame, and do the same for the feature attributes summary. Note for all of the `.csv` data files in this project: they're semicolon (`;`) delimited, so you'll need an additional argument in your [`read_csv()`](https://pandas.pydata.org/pandas-docs/stable/generated/pandas.read_csv.html) call to read in the data properly. Also, considering the size of the main dataset, it may take some time for it to load completely.\n",
    "\n",
    "Once the dataset is loaded, it's recommended that you take a little bit of time just browsing the general structure of the dataset and feature summary file. You'll be getting deep into the innards of the cleaning in the first major step of the project, so gaining some general familiarity can help you get your bearings."
   ]
  },
  {
   "cell_type": "code",
   "execution_count": 125,
   "metadata": {},
   "outputs": [],
   "source": [
    "# Load in the general demographics data.\n",
    "azdias = pd.read_csv('./Udacity_AZDIAS_Subset.csv',delimiter=';')\n",
    "\n",
    "# Load in the feature summary file.\n",
    "feat_info = pd.read_csv('./AZDIAS_Feature_Summary.csv',delimiter=';')"
   ]
  },
  {
   "cell_type": "code",
   "execution_count": 126,
   "metadata": {},
   "outputs": [
    {
     "data": {
      "text/plain": [
       "(891221, 85)"
      ]
     },
     "execution_count": 126,
     "metadata": {},
     "output_type": "execute_result"
    }
   ],
   "source": [
    "azdias.shape"
   ]
  },
  {
   "cell_type": "code",
   "execution_count": 127,
   "metadata": {},
   "outputs": [
    {
     "data": {
      "text/html": [
       "<div>\n",
       "<style scoped>\n",
       "    .dataframe tbody tr th:only-of-type {\n",
       "        vertical-align: middle;\n",
       "    }\n",
       "\n",
       "    .dataframe tbody tr th {\n",
       "        vertical-align: top;\n",
       "    }\n",
       "\n",
       "    .dataframe thead th {\n",
       "        text-align: right;\n",
       "    }\n",
       "</style>\n",
       "<table border=\"1\" class=\"dataframe\">\n",
       "  <thead>\n",
       "    <tr style=\"text-align: right;\">\n",
       "      <th></th>\n",
       "      <th>AGER_TYP</th>\n",
       "      <th>ALTERSKATEGORIE_GROB</th>\n",
       "      <th>ANREDE_KZ</th>\n",
       "      <th>CJT_GESAMTTYP</th>\n",
       "      <th>FINANZ_MINIMALIST</th>\n",
       "      <th>FINANZ_SPARER</th>\n",
       "      <th>FINANZ_VORSORGER</th>\n",
       "      <th>FINANZ_ANLEGER</th>\n",
       "      <th>FINANZ_UNAUFFAELLIGER</th>\n",
       "      <th>FINANZ_HAUSBAUER</th>\n",
       "      <th>...</th>\n",
       "      <th>PLZ8_ANTG1</th>\n",
       "      <th>PLZ8_ANTG2</th>\n",
       "      <th>PLZ8_ANTG3</th>\n",
       "      <th>PLZ8_ANTG4</th>\n",
       "      <th>PLZ8_BAUMAX</th>\n",
       "      <th>PLZ8_HHZ</th>\n",
       "      <th>PLZ8_GBZ</th>\n",
       "      <th>ARBEIT</th>\n",
       "      <th>ORTSGR_KLS9</th>\n",
       "      <th>RELAT_AB</th>\n",
       "    </tr>\n",
       "  </thead>\n",
       "  <tbody>\n",
       "    <tr>\n",
       "      <th>0</th>\n",
       "      <td>-1</td>\n",
       "      <td>2</td>\n",
       "      <td>1</td>\n",
       "      <td>2.0</td>\n",
       "      <td>3</td>\n",
       "      <td>4</td>\n",
       "      <td>3</td>\n",
       "      <td>5</td>\n",
       "      <td>5</td>\n",
       "      <td>3</td>\n",
       "      <td>...</td>\n",
       "      <td>NaN</td>\n",
       "      <td>NaN</td>\n",
       "      <td>NaN</td>\n",
       "      <td>NaN</td>\n",
       "      <td>NaN</td>\n",
       "      <td>NaN</td>\n",
       "      <td>NaN</td>\n",
       "      <td>NaN</td>\n",
       "      <td>NaN</td>\n",
       "      <td>NaN</td>\n",
       "    </tr>\n",
       "    <tr>\n",
       "      <th>1</th>\n",
       "      <td>-1</td>\n",
       "      <td>1</td>\n",
       "      <td>2</td>\n",
       "      <td>5.0</td>\n",
       "      <td>1</td>\n",
       "      <td>5</td>\n",
       "      <td>2</td>\n",
       "      <td>5</td>\n",
       "      <td>4</td>\n",
       "      <td>5</td>\n",
       "      <td>...</td>\n",
       "      <td>2.0</td>\n",
       "      <td>3.0</td>\n",
       "      <td>2.0</td>\n",
       "      <td>1.0</td>\n",
       "      <td>1.0</td>\n",
       "      <td>5.0</td>\n",
       "      <td>4.0</td>\n",
       "      <td>3.0</td>\n",
       "      <td>5.0</td>\n",
       "      <td>4.0</td>\n",
       "    </tr>\n",
       "    <tr>\n",
       "      <th>2</th>\n",
       "      <td>-1</td>\n",
       "      <td>3</td>\n",
       "      <td>2</td>\n",
       "      <td>3.0</td>\n",
       "      <td>1</td>\n",
       "      <td>4</td>\n",
       "      <td>1</td>\n",
       "      <td>2</td>\n",
       "      <td>3</td>\n",
       "      <td>5</td>\n",
       "      <td>...</td>\n",
       "      <td>3.0</td>\n",
       "      <td>3.0</td>\n",
       "      <td>1.0</td>\n",
       "      <td>0.0</td>\n",
       "      <td>1.0</td>\n",
       "      <td>4.0</td>\n",
       "      <td>4.0</td>\n",
       "      <td>3.0</td>\n",
       "      <td>5.0</td>\n",
       "      <td>2.0</td>\n",
       "    </tr>\n",
       "    <tr>\n",
       "      <th>3</th>\n",
       "      <td>2</td>\n",
       "      <td>4</td>\n",
       "      <td>2</td>\n",
       "      <td>2.0</td>\n",
       "      <td>4</td>\n",
       "      <td>2</td>\n",
       "      <td>5</td>\n",
       "      <td>2</td>\n",
       "      <td>1</td>\n",
       "      <td>2</td>\n",
       "      <td>...</td>\n",
       "      <td>2.0</td>\n",
       "      <td>2.0</td>\n",
       "      <td>2.0</td>\n",
       "      <td>0.0</td>\n",
       "      <td>1.0</td>\n",
       "      <td>3.0</td>\n",
       "      <td>4.0</td>\n",
       "      <td>2.0</td>\n",
       "      <td>3.0</td>\n",
       "      <td>3.0</td>\n",
       "    </tr>\n",
       "    <tr>\n",
       "      <th>4</th>\n",
       "      <td>-1</td>\n",
       "      <td>3</td>\n",
       "      <td>1</td>\n",
       "      <td>5.0</td>\n",
       "      <td>4</td>\n",
       "      <td>3</td>\n",
       "      <td>4</td>\n",
       "      <td>1</td>\n",
       "      <td>3</td>\n",
       "      <td>2</td>\n",
       "      <td>...</td>\n",
       "      <td>2.0</td>\n",
       "      <td>4.0</td>\n",
       "      <td>2.0</td>\n",
       "      <td>1.0</td>\n",
       "      <td>2.0</td>\n",
       "      <td>3.0</td>\n",
       "      <td>3.0</td>\n",
       "      <td>4.0</td>\n",
       "      <td>6.0</td>\n",
       "      <td>5.0</td>\n",
       "    </tr>\n",
       "  </tbody>\n",
       "</table>\n",
       "<p>5 rows × 85 columns</p>\n",
       "</div>"
      ],
      "text/plain": [
       "   AGER_TYP  ALTERSKATEGORIE_GROB  ANREDE_KZ  CJT_GESAMTTYP  \\\n",
       "0        -1                     2          1            2.0   \n",
       "1        -1                     1          2            5.0   \n",
       "2        -1                     3          2            3.0   \n",
       "3         2                     4          2            2.0   \n",
       "4        -1                     3          1            5.0   \n",
       "\n",
       "   FINANZ_MINIMALIST  FINANZ_SPARER  FINANZ_VORSORGER  FINANZ_ANLEGER  \\\n",
       "0                  3              4                 3               5   \n",
       "1                  1              5                 2               5   \n",
       "2                  1              4                 1               2   \n",
       "3                  4              2                 5               2   \n",
       "4                  4              3                 4               1   \n",
       "\n",
       "   FINANZ_UNAUFFAELLIGER  FINANZ_HAUSBAUER    ...     PLZ8_ANTG1  PLZ8_ANTG2  \\\n",
       "0                      5                 3    ...            NaN         NaN   \n",
       "1                      4                 5    ...            2.0         3.0   \n",
       "2                      3                 5    ...            3.0         3.0   \n",
       "3                      1                 2    ...            2.0         2.0   \n",
       "4                      3                 2    ...            2.0         4.0   \n",
       "\n",
       "   PLZ8_ANTG3  PLZ8_ANTG4  PLZ8_BAUMAX  PLZ8_HHZ  PLZ8_GBZ  ARBEIT  \\\n",
       "0         NaN         NaN          NaN       NaN       NaN     NaN   \n",
       "1         2.0         1.0          1.0       5.0       4.0     3.0   \n",
       "2         1.0         0.0          1.0       4.0       4.0     3.0   \n",
       "3         2.0         0.0          1.0       3.0       4.0     2.0   \n",
       "4         2.0         1.0          2.0       3.0       3.0     4.0   \n",
       "\n",
       "   ORTSGR_KLS9  RELAT_AB  \n",
       "0          NaN       NaN  \n",
       "1          5.0       4.0  \n",
       "2          5.0       2.0  \n",
       "3          3.0       3.0  \n",
       "4          6.0       5.0  \n",
       "\n",
       "[5 rows x 85 columns]"
      ]
     },
     "execution_count": 127,
     "metadata": {},
     "output_type": "execute_result"
    }
   ],
   "source": [
    "# Check the structure of the data after it's loaded (e.g. print the number of\n",
    "# rows and columns, print the first few rows).\n",
    "#demographic's info\n",
    "azdias.head()"
   ]
  },
  {
   "cell_type": "code",
   "execution_count": 128,
   "metadata": {
    "scrolled": true
   },
   "outputs": [
    {
     "name": "stdout",
     "output_type": "stream",
     "text": [
      "<class 'pandas.core.frame.DataFrame'>\n",
      "RangeIndex: 891221 entries, 0 to 891220\n",
      "Data columns (total 85 columns):\n",
      "AGER_TYP                 891221 non-null int64\n",
      "ALTERSKATEGORIE_GROB     891221 non-null int64\n",
      "ANREDE_KZ                891221 non-null int64\n",
      "CJT_GESAMTTYP            886367 non-null float64\n",
      "FINANZ_MINIMALIST        891221 non-null int64\n",
      "FINANZ_SPARER            891221 non-null int64\n",
      "FINANZ_VORSORGER         891221 non-null int64\n",
      "FINANZ_ANLEGER           891221 non-null int64\n",
      "FINANZ_UNAUFFAELLIGER    891221 non-null int64\n",
      "FINANZ_HAUSBAUER         891221 non-null int64\n",
      "FINANZTYP                891221 non-null int64\n",
      "GEBURTSJAHR              891221 non-null int64\n",
      "GFK_URLAUBERTYP          886367 non-null float64\n",
      "GREEN_AVANTGARDE         891221 non-null int64\n",
      "HEALTH_TYP               891221 non-null int64\n",
      "LP_LEBENSPHASE_FEIN      886367 non-null float64\n",
      "LP_LEBENSPHASE_GROB      886367 non-null float64\n",
      "LP_FAMILIE_FEIN          886367 non-null float64\n",
      "LP_FAMILIE_GROB          886367 non-null float64\n",
      "LP_STATUS_FEIN           886367 non-null float64\n",
      "LP_STATUS_GROB           886367 non-null float64\n",
      "NATIONALITAET_KZ         891221 non-null int64\n",
      "PRAEGENDE_JUGENDJAHRE    891221 non-null int64\n",
      "RETOURTYP_BK_S           886367 non-null float64\n",
      "SEMIO_SOZ                891221 non-null int64\n",
      "SEMIO_FAM                891221 non-null int64\n",
      "SEMIO_REL                891221 non-null int64\n",
      "SEMIO_MAT                891221 non-null int64\n",
      "SEMIO_VERT               891221 non-null int64\n",
      "SEMIO_LUST               891221 non-null int64\n",
      "SEMIO_ERL                891221 non-null int64\n",
      "SEMIO_KULT               891221 non-null int64\n",
      "SEMIO_RAT                891221 non-null int64\n",
      "SEMIO_KRIT               891221 non-null int64\n",
      "SEMIO_DOM                891221 non-null int64\n",
      "SEMIO_KAEM               891221 non-null int64\n",
      "SEMIO_PFLICHT            891221 non-null int64\n",
      "SEMIO_TRADV              891221 non-null int64\n",
      "SHOPPER_TYP              891221 non-null int64\n",
      "SOHO_KZ                  817722 non-null float64\n",
      "TITEL_KZ                 817722 non-null float64\n",
      "VERS_TYP                 891221 non-null int64\n",
      "ZABEOTYP                 891221 non-null int64\n",
      "ALTER_HH                 817722 non-null float64\n",
      "ANZ_PERSONEN             817722 non-null float64\n",
      "ANZ_TITEL                817722 non-null float64\n",
      "HH_EINKOMMEN_SCORE       872873 non-null float64\n",
      "KK_KUNDENTYP             306609 non-null float64\n",
      "W_KEIT_KIND_HH           783619 non-null float64\n",
      "WOHNDAUER_2008           817722 non-null float64\n",
      "ANZ_HAUSHALTE_AKTIV      798073 non-null float64\n",
      "ANZ_HH_TITEL             794213 non-null float64\n",
      "GEBAEUDETYP              798073 non-null float64\n",
      "KONSUMNAEHE              817252 non-null float64\n",
      "MIN_GEBAEUDEJAHR         798073 non-null float64\n",
      "OST_WEST_KZ              798073 non-null object\n",
      "WOHNLAGE                 798073 non-null float64\n",
      "CAMEO_DEUG_2015          792242 non-null object\n",
      "CAMEO_DEU_2015           792242 non-null object\n",
      "CAMEO_INTL_2015          792242 non-null object\n",
      "KBA05_ANTG1              757897 non-null float64\n",
      "KBA05_ANTG2              757897 non-null float64\n",
      "KBA05_ANTG3              757897 non-null float64\n",
      "KBA05_ANTG4              757897 non-null float64\n",
      "KBA05_BAUMAX             757897 non-null float64\n",
      "KBA05_GBZ                757897 non-null float64\n",
      "BALLRAUM                 797481 non-null float64\n",
      "EWDICHTE                 797481 non-null float64\n",
      "INNENSTADT               797481 non-null float64\n",
      "GEBAEUDETYP_RASTER       798066 non-null float64\n",
      "KKK                      770025 non-null float64\n",
      "MOBI_REGIO               757897 non-null float64\n",
      "ONLINE_AFFINITAET        886367 non-null float64\n",
      "REGIOTYP                 770025 non-null float64\n",
      "KBA13_ANZAHL_PKW         785421 non-null float64\n",
      "PLZ8_ANTG1               774706 non-null float64\n",
      "PLZ8_ANTG2               774706 non-null float64\n",
      "PLZ8_ANTG3               774706 non-null float64\n",
      "PLZ8_ANTG4               774706 non-null float64\n",
      "PLZ8_BAUMAX              774706 non-null float64\n",
      "PLZ8_HHZ                 774706 non-null float64\n",
      "PLZ8_GBZ                 774706 non-null float64\n",
      "ARBEIT                   794005 non-null float64\n",
      "ORTSGR_KLS9              794005 non-null float64\n",
      "RELAT_AB                 794005 non-null float64\n",
      "dtypes: float64(49), int64(32), object(4)\n",
      "memory usage: 578.0+ MB\n"
     ]
    }
   ],
   "source": [
    "azdias.info()"
   ]
  },
  {
   "cell_type": "code",
   "execution_count": 129,
   "metadata": {},
   "outputs": [
    {
     "data": {
      "text/plain": [
       "(85, 4)"
      ]
     },
     "execution_count": 129,
     "metadata": {},
     "output_type": "execute_result"
    }
   ],
   "source": [
    "feat_info.shape"
   ]
  },
  {
   "cell_type": "code",
   "execution_count": 130,
   "metadata": {
    "scrolled": true
   },
   "outputs": [
    {
     "data": {
      "text/html": [
       "<div>\n",
       "<style scoped>\n",
       "    .dataframe tbody tr th:only-of-type {\n",
       "        vertical-align: middle;\n",
       "    }\n",
       "\n",
       "    .dataframe tbody tr th {\n",
       "        vertical-align: top;\n",
       "    }\n",
       "\n",
       "    .dataframe thead th {\n",
       "        text-align: right;\n",
       "    }\n",
       "</style>\n",
       "<table border=\"1\" class=\"dataframe\">\n",
       "  <thead>\n",
       "    <tr style=\"text-align: right;\">\n",
       "      <th></th>\n",
       "      <th>attribute</th>\n",
       "      <th>information_level</th>\n",
       "      <th>type</th>\n",
       "      <th>missing_or_unknown</th>\n",
       "    </tr>\n",
       "  </thead>\n",
       "  <tbody>\n",
       "    <tr>\n",
       "      <th>64</th>\n",
       "      <td>KBA05_BAUMAX</td>\n",
       "      <td>microcell_rr3</td>\n",
       "      <td>mixed</td>\n",
       "      <td>[-1,0]</td>\n",
       "    </tr>\n",
       "    <tr>\n",
       "      <th>34</th>\n",
       "      <td>SEMIO_DOM</td>\n",
       "      <td>person</td>\n",
       "      <td>ordinal</td>\n",
       "      <td>[-1,9]</td>\n",
       "    </tr>\n",
       "    <tr>\n",
       "      <th>79</th>\n",
       "      <td>PLZ8_BAUMAX</td>\n",
       "      <td>macrocell_plz8</td>\n",
       "      <td>mixed</td>\n",
       "      <td>[-1,0]</td>\n",
       "    </tr>\n",
       "    <tr>\n",
       "      <th>2</th>\n",
       "      <td>ANREDE_KZ</td>\n",
       "      <td>person</td>\n",
       "      <td>categorical</td>\n",
       "      <td>[-1,0]</td>\n",
       "    </tr>\n",
       "    <tr>\n",
       "      <th>37</th>\n",
       "      <td>SEMIO_TRADV</td>\n",
       "      <td>person</td>\n",
       "      <td>ordinal</td>\n",
       "      <td>[-1,9]</td>\n",
       "    </tr>\n",
       "    <tr>\n",
       "      <th>4</th>\n",
       "      <td>FINANZ_MINIMALIST</td>\n",
       "      <td>person</td>\n",
       "      <td>ordinal</td>\n",
       "      <td>[-1]</td>\n",
       "    </tr>\n",
       "    <tr>\n",
       "      <th>72</th>\n",
       "      <td>ONLINE_AFFINITAET</td>\n",
       "      <td>region_rr1</td>\n",
       "      <td>ordinal</td>\n",
       "      <td>[]</td>\n",
       "    </tr>\n",
       "    <tr>\n",
       "      <th>65</th>\n",
       "      <td>KBA05_GBZ</td>\n",
       "      <td>microcell_rr3</td>\n",
       "      <td>ordinal</td>\n",
       "      <td>[-1,0]</td>\n",
       "    </tr>\n",
       "    <tr>\n",
       "      <th>44</th>\n",
       "      <td>ANZ_PERSONEN</td>\n",
       "      <td>household</td>\n",
       "      <td>numeric</td>\n",
       "      <td>[]</td>\n",
       "    </tr>\n",
       "    <tr>\n",
       "      <th>62</th>\n",
       "      <td>KBA05_ANTG3</td>\n",
       "      <td>microcell_rr3</td>\n",
       "      <td>ordinal</td>\n",
       "      <td>[-1]</td>\n",
       "    </tr>\n",
       "    <tr>\n",
       "      <th>52</th>\n",
       "      <td>GEBAEUDETYP</td>\n",
       "      <td>building</td>\n",
       "      <td>categorical</td>\n",
       "      <td>[-1,0]</td>\n",
       "    </tr>\n",
       "    <tr>\n",
       "      <th>57</th>\n",
       "      <td>CAMEO_DEUG_2015</td>\n",
       "      <td>microcell_rr4</td>\n",
       "      <td>categorical</td>\n",
       "      <td>[-1,X]</td>\n",
       "    </tr>\n",
       "    <tr>\n",
       "      <th>8</th>\n",
       "      <td>FINANZ_UNAUFFAELLIGER</td>\n",
       "      <td>person</td>\n",
       "      <td>ordinal</td>\n",
       "      <td>[-1]</td>\n",
       "    </tr>\n",
       "    <tr>\n",
       "      <th>59</th>\n",
       "      <td>CAMEO_INTL_2015</td>\n",
       "      <td>microcell_rr4</td>\n",
       "      <td>mixed</td>\n",
       "      <td>[-1,XX]</td>\n",
       "    </tr>\n",
       "    <tr>\n",
       "      <th>15</th>\n",
       "      <td>LP_LEBENSPHASE_FEIN</td>\n",
       "      <td>person</td>\n",
       "      <td>mixed</td>\n",
       "      <td>[0]</td>\n",
       "    </tr>\n",
       "  </tbody>\n",
       "</table>\n",
       "</div>"
      ],
      "text/plain": [
       "                attribute information_level         type missing_or_unknown\n",
       "64           KBA05_BAUMAX     microcell_rr3        mixed             [-1,0]\n",
       "34              SEMIO_DOM            person      ordinal             [-1,9]\n",
       "79            PLZ8_BAUMAX    macrocell_plz8        mixed             [-1,0]\n",
       "2               ANREDE_KZ            person  categorical             [-1,0]\n",
       "37            SEMIO_TRADV            person      ordinal             [-1,9]\n",
       "4       FINANZ_MINIMALIST            person      ordinal               [-1]\n",
       "72      ONLINE_AFFINITAET        region_rr1      ordinal                 []\n",
       "65              KBA05_GBZ     microcell_rr3      ordinal             [-1,0]\n",
       "44           ANZ_PERSONEN         household      numeric                 []\n",
       "62            KBA05_ANTG3     microcell_rr3      ordinal               [-1]\n",
       "52            GEBAEUDETYP          building  categorical             [-1,0]\n",
       "57        CAMEO_DEUG_2015     microcell_rr4  categorical             [-1,X]\n",
       "8   FINANZ_UNAUFFAELLIGER            person      ordinal               [-1]\n",
       "59        CAMEO_INTL_2015     microcell_rr4        mixed            [-1,XX]\n",
       "15    LP_LEBENSPHASE_FEIN            person        mixed                [0]"
      ]
     },
     "execution_count": 130,
     "metadata": {},
     "output_type": "execute_result"
    }
   ],
   "source": [
    "#features'info\n",
    "feat_info.sample(15)"
   ]
  },
  {
   "cell_type": "markdown",
   "metadata": {},
   "source": [
    "> **Tip**: Add additional cells to keep everything in reasonably-sized chunks! Keyboard shortcut `esc --> a` (press escape to enter command mode, then press the 'A' key) adds a new cell before the active cell, and `esc --> b` adds a new cell after the active cell. If you need to convert an active cell to a markdown cell, use `esc --> m` and to convert to a code cell, use `esc --> y`. \n",
    "\n",
    "## Step 1: Preprocessing\n",
    "\n",
    "### Step 1.1: Assess Missing Data\n",
    "\n",
    "The feature summary file contains a summary of properties for each demographics data column. You will use this file to help you make cleaning decisions during this stage of the project. First of all, you should assess the demographics data in terms of missing data. Pay attention to the following points as you perform your analysis, and take notes on what you observe. Make sure that you fill in the **Discussion** cell with your findings and decisions at the end of each step that has one!\n",
    "\n",
    "#### Step 1.1.1: Convert Missing Value Codes to NaNs\n",
    "The fourth column of the feature attributes summary (loaded in above as `feat_info`) documents the codes from the data dictionary that indicate missing or unknown data. While the file encodes this as a list (e.g. `[-1,0]`), this will get read in as a string object. You'll need to do a little bit of parsing to make use of it to identify and clean the data. Convert data that matches a 'missing' or 'unknown' value code into a numpy NaN value. You might want to see how much data takes on a 'missing' or 'unknown' code, and how much data is naturally missing, as a point of interest.\n",
    "\n",
    "**As one more reminder, you are encouraged to add additional cells to break up your analysis into manageable chunks.**"
   ]
  },
  {
   "cell_type": "code",
   "execution_count": 131,
   "metadata": {},
   "outputs": [],
   "source": [
    "# coping the dataset \n",
    "df_azdias = pd.read_csv('./Udacity_AZDIAS_Subset.csv',delimiter=';')"
   ]
  },
  {
   "cell_type": "code",
   "execution_count": 132,
   "metadata": {
    "scrolled": true
   },
   "outputs": [],
   "source": [
    "# just checking \n",
    "#df_azdias.info()"
   ]
  },
  {
   "cell_type": "code",
   "execution_count": 133,
   "metadata": {},
   "outputs": [],
   "source": [
    "# Identify missing or unknown data values and convert them to NaNs.\n",
    "\n",
    "# creating a list for missing/unknown data\n",
    "feat_info['missing_or_unknown'] = feat_info['missing_or_unknown'].apply(lambda x: x[1:-1].split(','))\n",
    "\n",
    "#looping over the two coloumns checked in \"feat_info.head()\"\n",
    "for attribute, missing_values in zip(feat_info['attribute'], feat_info['missing_or_unknown']):\n",
    "    if missing_values[0] != '':\n",
    "        for value in missing_values:\n",
    "            # checking whether the string consists of only numeric characters, dropping ('-') for assurity \n",
    "            if value.isnumeric() or value.lstrip('-').isnumeric():  \n",
    "                value = int(value)\n",
    "            df_azdias.loc[df_azdias[attribute] == value, attribute] = np.nan"
   ]
  },
  {
   "cell_type": "code",
   "execution_count": 134,
   "metadata": {
    "scrolled": true
   },
   "outputs": [
    {
     "data": {
      "text/plain": [
       "AGER_TYP                 685843\n",
       "ALTERSKATEGORIE_GROB       2881\n",
       "ANREDE_KZ                     0\n",
       "CJT_GESAMTTYP              4854\n",
       "FINANZ_MINIMALIST             0\n",
       "FINANZ_SPARER                 0\n",
       "FINANZ_VORSORGER              0\n",
       "FINANZ_ANLEGER                0\n",
       "FINANZ_UNAUFFAELLIGER         0\n",
       "FINANZ_HAUSBAUER              0\n",
       "FINANZTYP                     0\n",
       "GEBURTSJAHR              392318\n",
       "GFK_URLAUBERTYP            4854\n",
       "GREEN_AVANTGARDE              0\n",
       "HEALTH_TYP               111196\n",
       "LP_LEBENSPHASE_FEIN       97632\n",
       "LP_LEBENSPHASE_GROB       94572\n",
       "LP_FAMILIE_FEIN           77792\n",
       "LP_FAMILIE_GROB           77792\n",
       "LP_STATUS_FEIN             4854\n",
       "LP_STATUS_GROB             4854\n",
       "NATIONALITAET_KZ         108315\n",
       "PRAEGENDE_JUGENDJAHRE    108164\n",
       "RETOURTYP_BK_S             4854\n",
       "SEMIO_SOZ                     0\n",
       "SEMIO_FAM                     0\n",
       "SEMIO_REL                     0\n",
       "SEMIO_MAT                     0\n",
       "SEMIO_VERT                    0\n",
       "SEMIO_LUST                    0\n",
       "                          ...  \n",
       "OST_WEST_KZ               93148\n",
       "WOHNLAGE                  93148\n",
       "CAMEO_DEUG_2015           99352\n",
       "CAMEO_DEU_2015            99352\n",
       "CAMEO_INTL_2015           99352\n",
       "KBA05_ANTG1              133324\n",
       "KBA05_ANTG2              133324\n",
       "KBA05_ANTG3              133324\n",
       "KBA05_ANTG4              133324\n",
       "KBA05_BAUMAX             476524\n",
       "KBA05_GBZ                133324\n",
       "BALLRAUM                  93740\n",
       "EWDICHTE                  93740\n",
       "INNENSTADT                93740\n",
       "GEBAEUDETYP_RASTER        93155\n",
       "KKK                      158064\n",
       "MOBI_REGIO               133324\n",
       "ONLINE_AFFINITAET          4854\n",
       "REGIOTYP                 158064\n",
       "KBA13_ANZAHL_PKW         105800\n",
       "PLZ8_ANTG1               116515\n",
       "PLZ8_ANTG2               116515\n",
       "PLZ8_ANTG3               116515\n",
       "PLZ8_ANTG4               116515\n",
       "PLZ8_BAUMAX              116515\n",
       "PLZ8_HHZ                 116515\n",
       "PLZ8_GBZ                 116515\n",
       "ARBEIT                    97375\n",
       "ORTSGR_KLS9               97274\n",
       "RELAT_AB                  97375\n",
       "Length: 85, dtype: int64"
      ]
     },
     "execution_count": 134,
     "metadata": {},
     "output_type": "execute_result"
    }
   ],
   "source": [
    "df_azdias.isnull().sum()"
   ]
  },
  {
   "cell_type": "code",
   "execution_count": 135,
   "metadata": {},
   "outputs": [
    {
     "data": {
      "text/plain": [
       "8373929"
      ]
     },
     "execution_count": 135,
     "metadata": {},
     "output_type": "execute_result"
    }
   ],
   "source": [
    "df_azdias.isnull().sum().sum()"
   ]
  },
  {
   "cell_type": "markdown",
   "metadata": {},
   "source": [
    "#### Step 1.1.2: Assess Missing Data in Each Column\n",
    "\n",
    "How much missing data is present in each column? There are a few columns that are outliers in terms of the proportion of values that are missing. You will want to use matplotlib's [`hist()`](https://matplotlib.org/api/_as_gen/matplotlib.pyplot.hist.html) function to visualize the distribution of missing value counts to find these columns. Identify and document these columns. While some of these columns might have justifications for keeping or re-encoding the data, for this project you should just remove them from the dataframe. (Feel free to make remarks about these outlier columns in the discussion, however!)\n",
    "\n",
    "For the remaining features, are there any patterns in which columns have, or share, missing data?"
   ]
  },
  {
   "cell_type": "code",
   "execution_count": 136,
   "metadata": {},
   "outputs": [],
   "source": [
    "# Perform an assessment of how much missing data there is in each column of the\n",
    "# dataset.\n",
    "missing_data = df_azdias.isnull().sum()\n",
    "#get percentage\n",
    "missing_data = missing_data[missing_data > 0]/(df_azdias.shape[0]) * 100\n",
    "missing_data.sort_values(inplace=True)\n",
    "\n",
    "#print(len(missing_data))"
   ]
  },
  {
   "cell_type": "code",
   "execution_count": 137,
   "metadata": {
    "scrolled": true
   },
   "outputs": [
    {
     "data": {
      "image/png": "[encoded data removed]",
      "text/plain": [
       "<matplotlib.figure.Figure at 0x7f149e0d1400>"
      ]
     },
     "metadata": {
      "needs_background": "light"
     },
     "output_type": "display_data"
    }
   ],
   "source": [
    "# Investigate patterns in the amount of missing data in each column.\n",
    "plt.hist(missing_data, 20)\n",
    "\n",
    "plt.xlabel('Missing Data(%)')\n",
    "plt.ylabel('Counts')\n",
    "plt.title('Missing Data Density')\n",
    "plt.grid(True)\n",
    "plt.show()"
   ]
  },
  {
   "cell_type": "code",
   "execution_count": 138,
   "metadata": {
    "scrolled": true
   },
   "outputs": [
    {
     "data": {
      "image/png": "[encoded data removed]",
      "text/plain": [
       "<matplotlib.figure.Figure at 0x7f154045c550>"
      ]
     },
     "metadata": {
      "needs_background": "light"
     },
     "output_type": "display_data"
    }
   ],
   "source": [
    "missing_data.plot.bar(figsize=(15,10))\n",
    "plt.xlabel('Percentage of missing values')\n",
    "plt.ylabel('Columns')\n",
    "plt.show()"
   ]
  },
  {
   "cell_type": "code",
   "execution_count": 139,
   "metadata": {},
   "outputs": [
    {
     "name": "stdout",
     "output_type": "stream",
     "text": [
      "Percentage of Missing Data: 11.054 %\n"
     ]
    }
   ],
   "source": [
    "print('Percentage of Missing Data:',round(df_azdias.isnull().sum().sum()/np.product(df_azdias.shape)*100,3),'%')"
   ]
  },
  {
   "cell_type": "code",
   "execution_count": 140,
   "metadata": {},
   "outputs": [
    {
     "name": "stdout",
     "output_type": "stream",
     "text": [
      "TITEL_KZ        0.997576\n",
      "AGER_TYP        0.769554\n",
      "KK_KUNDENTYP    0.655967\n",
      "KBA05_BAUMAX    0.534687\n",
      "GEBURTSJAHR     0.440203\n",
      "ALTER_HH        0.348137\n",
      "dtype: float64\n",
      "6\n"
     ]
    }
   ],
   "source": [
    "Col_null = (df_azdias.isnull().mean()).sort_values(ascending=False)\n",
    "Col_most_missingData = Col_null[Col_null>0.2]\n",
    "print(Col_most_missingData)\n",
    "print(len(Col_most_missingData))"
   ]
  },
  {
   "cell_type": "code",
   "execution_count": 141,
   "metadata": {},
   "outputs": [],
   "source": [
    "# Remove the outlier columns from the dataset. (You'll perform other data\n",
    "# engineering tasks such as re-encoding and imputation later.)\n",
    "missing_20 = [col for col in df_azdias.columns \n",
    "               if (df_azdias[col].isnull().sum()/df_azdias.shape[0])* 100 > 20]\n",
    "\n",
    "for col in missing_20:\n",
    "    df_azdias.drop(col, axis=1, inplace=True)"
   ]
  },
  {
   "cell_type": "code",
   "execution_count": 142,
   "metadata": {},
   "outputs": [
    {
     "name": "stdout",
     "output_type": "stream",
     "text": [
      "['AGER_TYP', 'GEBURTSJAHR', 'TITEL_KZ', 'ALTER_HH', 'KK_KUNDENTYP', 'KBA05_BAUMAX']\n"
     ]
    }
   ],
   "source": [
    "print(missing_20)"
   ]
  },
  {
   "cell_type": "code",
   "execution_count": 143,
   "metadata": {},
   "outputs": [
    {
     "data": {
      "text/plain": [
       "(891221, 79)"
      ]
     },
     "execution_count": 143,
     "metadata": {},
     "output_type": "execute_result"
    }
   ],
   "source": [
    "# check after dropping coloumns\n",
    "df_azdias.shape"
   ]
  },
  {
   "cell_type": "code",
   "execution_count": 144,
   "metadata": {
    "scrolled": true
   },
   "outputs": [],
   "source": [
    "check_after_drop = df_azdias.isnull().sum()\n",
    "check_after_drop = check_after_drop[check_after_drop> 0]/(df_azdias.shape[0]) * 100\n",
    "#print(type(check_after_drop))\n",
    "#check_after_drop.sort_values(ascending = False)"
   ]
  },
  {
   "cell_type": "markdown",
   "metadata": {},
   "source": [
    "#### Discussion 1.1.2: Assess Missing Data in Each Column\n",
    "\n",
    "According to the first histogram, we can conclude that several coloumns include missing/unknown information which could produce mess in data. For this reason, it's better to drop the unnecessary coloumns that doesn't hold a valuable information.\n",
    "The second histogram gives a better visualization of the coloumns comparing with the amount of the missing data, and from which we could split the data into two categories:\n",
    "- Coloumns with missing data **> 20%**\n",
    "- Coloums with missing data **< 20%**\n",
    "\n",
    "The coloumns exceeding the \"20%\" are considered unnecessary which are the **six** belowing:\n",
    "- TITEL_KZ        \n",
    "- AGER_TYP        \n",
    "- KK_KUNDENTYP    \n",
    "- KBA05_BAUMAX    \n",
    "- GEBURTSJAHR     \n",
    "- ALTER_HH \n",
    "THhey are **dropped**"
   ]
  },
  {
   "cell_type": "markdown",
   "metadata": {},
   "source": [
    "#### Step 1.1.3: Assess Missing Data in Each Row\n",
    "\n",
    "Now, you'll perform a similar assessment for the rows of the dataset. How much data is missing in each row? As with the columns, you should see some groups of points that have a very different numbers of missing values. Divide the data into two subsets: one for data points that are above some threshold for missing values, and a second subset for points below that threshold.\n",
    "\n",
    "In order to know what to do with the outlier rows, we should see if the distribution of data values on columns that are not missing data (or are missing very little data) are similar or different between the two groups. Select at least five of these columns and compare the distribution of values.\n",
    "- You can use seaborn's [`countplot()`](https://seaborn.pydata.org/generated/seaborn.countplot.html) function to create a bar chart of code frequencies and matplotlib's [`subplot()`](https://matplotlib.org/api/_as_gen/matplotlib.pyplot.subplot.html) function to put bar charts for the two subplots side by side.\n",
    "- To reduce repeated code, you might want to write a function that can perform this comparison, taking as one of its arguments a column to be compared.\n",
    "\n",
    "Depending on what you observe in your comparison, this will have implications on how you approach your conclusions later in the analysis. If the distributions of non-missing features look similar between the data with many missing values and the data with few or no missing values, then we could argue that simply dropping those points from the analysis won't present a major issue. On the other hand, if the data with many missing values looks very different from the data with few or no missing values, then we should make a note on those data as special. We'll revisit these data later on. **Either way, you should continue your analysis for now using just the subset of the data with few or no missing values.**"
   ]
  },
  {
   "cell_type": "code",
   "execution_count": 145,
   "metadata": {
    "scrolled": true
   },
   "outputs": [
    {
     "data": {
      "text/plain": [
       "732775    62.025316\n",
       "643174    62.025316\n",
       "472919    60.759494\n",
       "453262    59.493671\n",
       "183601    59.493671\n",
       "183599    59.493671\n",
       "318281    59.493671\n",
       "27533     59.493671\n",
       "526991    59.493671\n",
       "318320    59.493671\n",
       "318321    59.493671\n",
       "318322    59.493671\n",
       "527002    59.493671\n",
       "27531     59.493671\n",
       "221169    59.493671\n",
       "453260    59.493671\n",
       "318326    59.493671\n",
       "183499    59.493671\n",
       "221224    59.493671\n",
       "183496    59.493671\n",
       "288864    59.493671\n",
       "527051    59.493671\n",
       "183492    59.493671\n",
       "839537    59.493671\n",
       "453376    59.493671\n",
       "527069    59.493671\n",
       "453402    59.493671\n",
       "839529    59.493671\n",
       "839556    59.493671\n",
       "526503    59.493671\n",
       "            ...    \n",
       "664798     1.265823\n",
       "2775       1.265823\n",
       "110352     1.265823\n",
       "544336     1.265823\n",
       "309051     1.265823\n",
       "674239     1.265823\n",
       "309043     1.265823\n",
       "110302     1.265823\n",
       "664952     1.265823\n",
       "308988     1.265823\n",
       "308975     1.265823\n",
       "110346     1.265823\n",
       "884622     1.265823\n",
       "664958     1.265823\n",
       "884646     1.265823\n",
       "884661     1.265823\n",
       "747312     1.265823\n",
       "308889     1.265823\n",
       "884695     1.265823\n",
       "539502     1.265823\n",
       "308874     1.265823\n",
       "177403     1.265823\n",
       "309312     1.265823\n",
       "292273     1.265823\n",
       "884377     1.265823\n",
       "110232     1.265823\n",
       "110249     1.265823\n",
       "110252     1.265823\n",
       "674335     1.265823\n",
       "237075     1.265823\n",
       "Length: 268012, dtype: float64"
      ]
     },
     "execution_count": 145,
     "metadata": {},
     "output_type": "execute_result"
    }
   ],
   "source": [
    "# How much data is missing in each row of the dataset?\n",
    "missing_Rdata = df_azdias.isnull().sum(axis=1)\n",
    "missing_Rdata = missing_Rdata[missing_Rdata > 0]/(len(df_azdias.columns)) * 100\n",
    "missing_Rdata.sort_values(inplace=True)\n",
    "missing_Rdata.sort_values(ascending=False)"
   ]
  },
  {
   "cell_type": "code",
   "execution_count": 146,
   "metadata": {},
   "outputs": [
    {
     "data": {
      "image/png": "[encoded data removed]",
      "text/plain": [
       "<matplotlib.figure.Figure at 0x7f14a2c044a8>"
      ]
     },
     "metadata": {
      "needs_background": "light"
     },
     "output_type": "display_data"
    }
   ],
   "source": [
    "# visualizing data\n",
    "plt.hist(missing_Rdata, 20)\n",
    "\n",
    "plt.xlabel('Missing Data(%)')\n",
    "plt.ylabel('Counts')\n",
    "plt.title('Missing Data Density')\n",
    "plt.grid(True)\n",
    "plt.show()"
   ]
  },
  {
   "cell_type": "code",
   "execution_count": 147,
   "metadata": {},
   "outputs": [
    {
     "data": {
      "text/plain": [
       "5035304"
      ]
     },
     "execution_count": 147,
     "metadata": {},
     "output_type": "execute_result"
    }
   ],
   "source": [
    "# counting \"null\" data in rows-->axis=1\n",
    "missing_Rdata = df_azdias.isnull().sum(axis=1)\n",
    "missing_Rdata.sum()"
   ]
  },
  {
   "cell_type": "code",
   "execution_count": 148,
   "metadata": {},
   "outputs": [],
   "source": [
    "# Write code to divide the data into two subsets based on the number of missing\n",
    "# values in each row.\n",
    "missing_Low_rate = df_azdias[df_azdias.isnull().sum(axis=1) < 10].reset_index(drop=True)\n",
    "missing_High_rate = df_azdias[df_azdias.isnull().sum(axis=1) >= 10].reset_index(drop=True)"
   ]
  },
  {
   "cell_type": "code",
   "execution_count": 149,
   "metadata": {
    "scrolled": true
   },
   "outputs": [
    {
     "data": {
      "image/png": "[encoded data removed]",
      "text/plain": [
       "<matplotlib.figure.Figure at 0x7f1542b839e8>"
      ]
     },
     "metadata": {
      "needs_background": "light"
     },
     "output_type": "display_data"
    }
   ],
   "source": [
    "# Compare the distribution of values for at least five columns where there are\n",
    "# no or few missing values, between the two subsets.\n",
    "\n",
    "# function for plotting\n",
    "def countplot(columns, num):\n",
    "    fig, axs = plt.subplots(num, 2, figsize=(10, 10))\n",
    "    fig.subplots_adjust(hspace=2 , wspace=.5)\n",
    "    #return a flattened 1D array\n",
    "    axs = axs.ravel()\n",
    "    \n",
    "    for i in range(num):       \n",
    "        sns.countplot(missing_Low_rate[columns[i]], ax=axs[i*2])\n",
    "        axs[i*2].set_title('missing_data_rows_low')\n",
    "        sns.countplot(missing_High_rate[columns[i]], ax=axs[i*2+1])\n",
    "        axs[i*2+1].set_title('missing_data_rows_high')\n",
    "        \n",
    "countplot(missing_Low_rate.columns, 5)\n"
   ]
  },
  {
   "cell_type": "code",
   "execution_count": 150,
   "metadata": {},
   "outputs": [
    {
     "name": "stdout",
     "output_type": "stream",
     "text": [
      "Rows with High rate of missing data:  116478\n",
      "Percentage:  13.069 %\n"
     ]
    }
   ],
   "source": [
    "print('Rows with High rate of missing data: ', missing_High_rate.shape[0])\n",
    "print('Percentage: ',np.round(missing_High_rate.shape[0]*100/missing_Rdata.shape[0],3),'%')"
   ]
  },
  {
   "cell_type": "code",
   "execution_count": 151,
   "metadata": {},
   "outputs": [],
   "source": [
    "# keeping the df of low missing data to work with\n",
    "df_lowNaN = missing_Low_rate"
   ]
  },
  {
   "cell_type": "code",
   "execution_count": 152,
   "metadata": {},
   "outputs": [
    {
     "data": {
      "text/plain": [
       "(774743, 79)"
      ]
     },
     "execution_count": 152,
     "metadata": {},
     "output_type": "execute_result"
    }
   ],
   "source": [
    "df_lowNaN.shape"
   ]
  },
  {
   "cell_type": "markdown",
   "metadata": {},
   "source": [
    "#### Discussion 1.1.3: Assess Missing Data in Each Row\n",
    "\n",
    "- From the first plotted histogram, we could analyse that **10%** will be a good point for splitting the data into **two subsets**.\n",
    "- About 13.07% are found with missing data with greater than 10%.\n",
    "- From the second diagrams, the rows with missing data are different. "
   ]
  },
  {
   "cell_type": "markdown",
   "metadata": {},
   "source": [
    "### Step 1.2: Select and Re-Encode Features\n",
    "\n",
    "Checking for missing data isn't the only way in which you can prepare a dataset for analysis. Since the unsupervised learning techniques to be used will only work on data that is encoded numerically, you need to make a few encoding changes or additional assumptions to be able to make progress. In addition, while almost all of the values in the dataset are encoded using numbers, not all of them represent numeric values. Check the third column of the feature summary (`feat_info`) for a summary of types of measurement.\n",
    "- For numeric and interval data, these features can be kept without changes.\n",
    "- Most of the variables in the dataset are ordinal in nature. While ordinal values may technically be non-linear in spacing, make the simplifying assumption that the ordinal variables can be treated as being interval in nature (that is, kept without any changes).\n",
    "- Special handling may be necessary for the remaining two variable types: categorical, and 'mixed'.\n",
    "\n",
    "In the first two parts of this sub-step, you will perform an investigation of the categorical and mixed-type features and make a decision on each of them, whether you will keep, drop, or re-encode each. Then, in the last part, you will create a new data frame with only the selected and engineered columns.\n",
    "\n",
    "Data wrangling is often the trickiest part of the data analysis process, and there's a lot of it to be done here. But stick with it: once you're done with this step, you'll be ready to get to the machine learning parts of the project!"
   ]
  },
  {
   "cell_type": "code",
   "execution_count": 153,
   "metadata": {},
   "outputs": [
    {
     "data": {
      "text/plain": [
       "(79, 4)"
      ]
     },
     "execution_count": 153,
     "metadata": {},
     "output_type": "execute_result"
    }
   ],
   "source": [
    "feat_info = feat_info[feat_info.attribute.isin(df_azdias.columns)]\n",
    "feat_info.shape"
   ]
  },
  {
   "cell_type": "code",
   "execution_count": 154,
   "metadata": {},
   "outputs": [
    {
     "data": {
      "image/png": "[encoded data removed]",
      "text/plain": [
       "<matplotlib.figure.Figure at 0x7f153e8eca90>"
      ]
     },
     "metadata": {
      "needs_background": "light"
     },
     "output_type": "display_data"
    }
   ],
   "source": [
    "# How many features are there of each data type?\n",
    "fig, ax1 = plt.subplots(figsize=(10,5))\n",
    "sns.countplot(data=feat_info,\n",
    "              x='type',\n",
    "              color='b',\n",
    "              ax=ax1)\n",
    "ax1.set_ylabel('Features')\n",
    "ax1.set_xlabel('Data Type')\n",
    "for p in ax1.patches:\n",
    "    ax1.annotate('{:.0f}'.format(p.get_height()), (p.get_x(), p.get_height()+0.5))\n",
    "sns.despine(ax=ax1);"
   ]
  },
  {
   "cell_type": "markdown",
   "metadata": {},
   "source": [
    "#### Step 1.2.1: Re-Encode Categorical Features\n",
    "\n",
    "For categorical data, you would ordinarily need to encode the levels as dummy variables. Depending on the number of categories, perform one of the following:\n",
    "- For binary (two-level) categoricals that take numeric values, you can keep them without needing to do anything.\n",
    "- There is one binary variable that takes on non-numeric values. For this one, you need to re-encode the values as numbers or create a dummy variable.\n",
    "- For multi-level categoricals (three or more values), you can choose to encode the values using multiple dummy variables (e.g. via [OneHotEncoder](http://scikit-learn.org/stable/modules/generated/sklearn.preprocessing.OneHotEncoder.html)), or (to keep things straightforward) just drop them from the analysis. As always, document your choices in the Discussion section."
   ]
  },
  {
   "cell_type": "code",
   "execution_count": 155,
   "metadata": {
    "scrolled": true
   },
   "outputs": [
    {
     "data": {
      "text/html": [
       "<div>\n",
       "<style scoped>\n",
       "    .dataframe tbody tr th:only-of-type {\n",
       "        vertical-align: middle;\n",
       "    }\n",
       "\n",
       "    .dataframe tbody tr th {\n",
       "        vertical-align: top;\n",
       "    }\n",
       "\n",
       "    .dataframe thead th {\n",
       "        text-align: right;\n",
       "    }\n",
       "</style>\n",
       "<table border=\"1\" class=\"dataframe\">\n",
       "  <thead>\n",
       "    <tr style=\"text-align: right;\">\n",
       "      <th></th>\n",
       "      <th>attribute</th>\n",
       "      <th>information_level</th>\n",
       "      <th>type</th>\n",
       "      <th>missing_or_unknown</th>\n",
       "    </tr>\n",
       "  </thead>\n",
       "  <tbody>\n",
       "    <tr>\n",
       "      <th>2</th>\n",
       "      <td>ANREDE_KZ</td>\n",
       "      <td>person</td>\n",
       "      <td>categorical</td>\n",
       "      <td>[-1, 0]</td>\n",
       "    </tr>\n",
       "    <tr>\n",
       "      <th>3</th>\n",
       "      <td>CJT_GESAMTTYP</td>\n",
       "      <td>person</td>\n",
       "      <td>categorical</td>\n",
       "      <td>[0]</td>\n",
       "    </tr>\n",
       "    <tr>\n",
       "      <th>10</th>\n",
       "      <td>FINANZTYP</td>\n",
       "      <td>person</td>\n",
       "      <td>categorical</td>\n",
       "      <td>[-1]</td>\n",
       "    </tr>\n",
       "    <tr>\n",
       "      <th>12</th>\n",
       "      <td>GFK_URLAUBERTYP</td>\n",
       "      <td>person</td>\n",
       "      <td>categorical</td>\n",
       "      <td>[]</td>\n",
       "    </tr>\n",
       "    <tr>\n",
       "      <th>13</th>\n",
       "      <td>GREEN_AVANTGARDE</td>\n",
       "      <td>person</td>\n",
       "      <td>categorical</td>\n",
       "      <td>[]</td>\n",
       "    </tr>\n",
       "    <tr>\n",
       "      <th>17</th>\n",
       "      <td>LP_FAMILIE_FEIN</td>\n",
       "      <td>person</td>\n",
       "      <td>categorical</td>\n",
       "      <td>[0]</td>\n",
       "    </tr>\n",
       "    <tr>\n",
       "      <th>18</th>\n",
       "      <td>LP_FAMILIE_GROB</td>\n",
       "      <td>person</td>\n",
       "      <td>categorical</td>\n",
       "      <td>[0]</td>\n",
       "    </tr>\n",
       "    <tr>\n",
       "      <th>19</th>\n",
       "      <td>LP_STATUS_FEIN</td>\n",
       "      <td>person</td>\n",
       "      <td>categorical</td>\n",
       "      <td>[0]</td>\n",
       "    </tr>\n",
       "    <tr>\n",
       "      <th>20</th>\n",
       "      <td>LP_STATUS_GROB</td>\n",
       "      <td>person</td>\n",
       "      <td>categorical</td>\n",
       "      <td>[0]</td>\n",
       "    </tr>\n",
       "    <tr>\n",
       "      <th>21</th>\n",
       "      <td>NATIONALITAET_KZ</td>\n",
       "      <td>person</td>\n",
       "      <td>categorical</td>\n",
       "      <td>[-1, 0]</td>\n",
       "    </tr>\n",
       "    <tr>\n",
       "      <th>38</th>\n",
       "      <td>SHOPPER_TYP</td>\n",
       "      <td>person</td>\n",
       "      <td>categorical</td>\n",
       "      <td>[-1]</td>\n",
       "    </tr>\n",
       "    <tr>\n",
       "      <th>39</th>\n",
       "      <td>SOHO_KZ</td>\n",
       "      <td>person</td>\n",
       "      <td>categorical</td>\n",
       "      <td>[-1]</td>\n",
       "    </tr>\n",
       "    <tr>\n",
       "      <th>41</th>\n",
       "      <td>VERS_TYP</td>\n",
       "      <td>person</td>\n",
       "      <td>categorical</td>\n",
       "      <td>[-1]</td>\n",
       "    </tr>\n",
       "    <tr>\n",
       "      <th>42</th>\n",
       "      <td>ZABEOTYP</td>\n",
       "      <td>person</td>\n",
       "      <td>categorical</td>\n",
       "      <td>[-1, 9]</td>\n",
       "    </tr>\n",
       "    <tr>\n",
       "      <th>52</th>\n",
       "      <td>GEBAEUDETYP</td>\n",
       "      <td>building</td>\n",
       "      <td>categorical</td>\n",
       "      <td>[-1, 0]</td>\n",
       "    </tr>\n",
       "    <tr>\n",
       "      <th>55</th>\n",
       "      <td>OST_WEST_KZ</td>\n",
       "      <td>building</td>\n",
       "      <td>categorical</td>\n",
       "      <td>[-1]</td>\n",
       "    </tr>\n",
       "    <tr>\n",
       "      <th>57</th>\n",
       "      <td>CAMEO_DEUG_2015</td>\n",
       "      <td>microcell_rr4</td>\n",
       "      <td>categorical</td>\n",
       "      <td>[-1, X]</td>\n",
       "    </tr>\n",
       "    <tr>\n",
       "      <th>58</th>\n",
       "      <td>CAMEO_DEU_2015</td>\n",
       "      <td>microcell_rr4</td>\n",
       "      <td>categorical</td>\n",
       "      <td>[XX]</td>\n",
       "    </tr>\n",
       "  </tbody>\n",
       "</table>\n",
       "</div>"
      ],
      "text/plain": [
       "           attribute information_level         type missing_or_unknown\n",
       "2          ANREDE_KZ            person  categorical            [-1, 0]\n",
       "3      CJT_GESAMTTYP            person  categorical                [0]\n",
       "10         FINANZTYP            person  categorical               [-1]\n",
       "12   GFK_URLAUBERTYP            person  categorical                 []\n",
       "13  GREEN_AVANTGARDE            person  categorical                 []\n",
       "17   LP_FAMILIE_FEIN            person  categorical                [0]\n",
       "18   LP_FAMILIE_GROB            person  categorical                [0]\n",
       "19    LP_STATUS_FEIN            person  categorical                [0]\n",
       "20    LP_STATUS_GROB            person  categorical                [0]\n",
       "21  NATIONALITAET_KZ            person  categorical            [-1, 0]\n",
       "38       SHOPPER_TYP            person  categorical               [-1]\n",
       "39           SOHO_KZ            person  categorical               [-1]\n",
       "41          VERS_TYP            person  categorical               [-1]\n",
       "42          ZABEOTYP            person  categorical            [-1, 9]\n",
       "52       GEBAEUDETYP          building  categorical            [-1, 0]\n",
       "55       OST_WEST_KZ          building  categorical               [-1]\n",
       "57   CAMEO_DEUG_2015     microcell_rr4  categorical            [-1, X]\n",
       "58    CAMEO_DEU_2015     microcell_rr4  categorical               [XX]"
      ]
     },
     "execution_count": 155,
     "metadata": {},
     "output_type": "execute_result"
    }
   ],
   "source": [
    "feat_info[feat_info.type == 'categorical']"
   ]
  },
  {
   "cell_type": "code",
   "execution_count": 156,
   "metadata": {},
   "outputs": [
    {
     "data": {
      "text/plain": [
       "information_level\n",
       "building          2\n",
       "microcell_rr4     2\n",
       "person           14\n",
       "Name: missing_or_unknown, dtype: int64"
      ]
     },
     "execution_count": 156,
     "metadata": {},
     "output_type": "execute_result"
    }
   ],
   "source": [
    "# Assess categorical variables: which are binary, which are multi-level, and\n",
    "# which one needs to be re-encoded?\n",
    "feat_info[feat_info.type == 'categorical'].groupby('information_level').count().iloc[:,-1]"
   ]
  },
  {
   "cell_type": "code",
   "execution_count": 157,
   "metadata": {},
   "outputs": [
    {
     "data": {
      "text/plain": [
       "2            ANREDE_KZ\n",
       "3        CJT_GESAMTTYP\n",
       "10           FINANZTYP\n",
       "12     GFK_URLAUBERTYP\n",
       "13    GREEN_AVANTGARDE\n",
       "17     LP_FAMILIE_FEIN\n",
       "18     LP_FAMILIE_GROB\n",
       "19      LP_STATUS_FEIN\n",
       "20      LP_STATUS_GROB\n",
       "21    NATIONALITAET_KZ\n",
       "38         SHOPPER_TYP\n",
       "39             SOHO_KZ\n",
       "41            VERS_TYP\n",
       "42            ZABEOTYP\n",
       "52         GEBAEUDETYP\n",
       "55         OST_WEST_KZ\n",
       "57     CAMEO_DEUG_2015\n",
       "58      CAMEO_DEU_2015\n",
       "Name: attribute, dtype: object"
      ]
     },
     "execution_count": 157,
     "metadata": {},
     "output_type": "execute_result"
    }
   ],
   "source": [
    "df_categorical = feat_info[feat_info.type == 'categorical'].attribute\n",
    "df_categorical"
   ]
  },
  {
   "cell_type": "code",
   "execution_count": 158,
   "metadata": {
    "scrolled": false
   },
   "outputs": [
    {
     "data": {
      "text/plain": [
       "ANREDE_KZ            2\n",
       "OST_WEST_KZ          2\n",
       "VERS_TYP             2\n",
       "SOHO_KZ              2\n",
       "GREEN_AVANTGARDE     2\n",
       "NATIONALITAET_KZ     3\n",
       "SHOPPER_TYP          4\n",
       "LP_STATUS_GROB       5\n",
       "LP_FAMILIE_GROB      5\n",
       "FINANZTYP            6\n",
       "ZABEOTYP             6\n",
       "CJT_GESAMTTYP        6\n",
       "GEBAEUDETYP          7\n",
       "CAMEO_DEUG_2015      9\n",
       "LP_STATUS_FEIN      10\n",
       "LP_FAMILIE_FEIN     11\n",
       "GFK_URLAUBERTYP     12\n",
       "CAMEO_DEU_2015      44\n",
       "dtype: int64"
      ]
     },
     "execution_count": 158,
     "metadata": {},
     "output_type": "execute_result"
    }
   ],
   "source": [
    "df_lowNaN[df_categorical].nunique().sort_values()"
   ]
  },
  {
   "cell_type": "code",
   "execution_count": 159,
   "metadata": {},
   "outputs": [
    {
     "name": "stdout",
     "output_type": "stream",
     "text": [
      "Sum of(2): 5 \n",
      "Sum of greater than (2): 13\n"
     ]
    }
   ],
   "source": [
    "print('Sum of(2):', sum(df_lowNaN[df_categorical].nunique() == 2) ,'\\nSum of greater than (2):',sum(df_lowNaN[df_categorical].nunique() > 2))"
   ]
  },
  {
   "cell_type": "code",
   "execution_count": 160,
   "metadata": {},
   "outputs": [
    {
     "data": {
      "text/plain": [
       "ANREDE_KZ           float64\n",
       "CJT_GESAMTTYP       float64\n",
       "FINANZTYP           float64\n",
       "GFK_URLAUBERTYP     float64\n",
       "GREEN_AVANTGARDE      int64\n",
       "LP_FAMILIE_FEIN     float64\n",
       "LP_FAMILIE_GROB     float64\n",
       "LP_STATUS_FEIN      float64\n",
       "LP_STATUS_GROB      float64\n",
       "NATIONALITAET_KZ    float64\n",
       "SHOPPER_TYP         float64\n",
       "SOHO_KZ             float64\n",
       "VERS_TYP            float64\n",
       "ZABEOTYP            float64\n",
       "GEBAEUDETYP         float64\n",
       "OST_WEST_KZ          object\n",
       "CAMEO_DEUG_2015      object\n",
       "CAMEO_DEU_2015       object\n",
       "dtype: object"
      ]
     },
     "execution_count": 160,
     "metadata": {},
     "output_type": "execute_result"
    }
   ],
   "source": [
    "df_lowNaN[df_categorical].dtypes"
   ]
  },
  {
   "cell_type": "code",
   "execution_count": 161,
   "metadata": {},
   "outputs": [
    {
     "data": {
      "text/html": [
       "<div>\n",
       "<style scoped>\n",
       "    .dataframe tbody tr th:only-of-type {\n",
       "        vertical-align: middle;\n",
       "    }\n",
       "\n",
       "    .dataframe tbody tr th {\n",
       "        vertical-align: top;\n",
       "    }\n",
       "\n",
       "    .dataframe thead th {\n",
       "        text-align: right;\n",
       "    }\n",
       "</style>\n",
       "<table border=\"1\" class=\"dataframe\">\n",
       "  <thead>\n",
       "    <tr style=\"text-align: right;\">\n",
       "      <th></th>\n",
       "      <th>OST_WEST_KZ</th>\n",
       "      <th>CAMEO_DEUG_2015</th>\n",
       "      <th>CAMEO_DEU_2015</th>\n",
       "    </tr>\n",
       "  </thead>\n",
       "  <tbody>\n",
       "    <tr>\n",
       "      <th>734315</th>\n",
       "      <td>W</td>\n",
       "      <td>8</td>\n",
       "      <td>8B</td>\n",
       "    </tr>\n",
       "    <tr>\n",
       "      <th>213157</th>\n",
       "      <td>O</td>\n",
       "      <td>9</td>\n",
       "      <td>9B</td>\n",
       "    </tr>\n",
       "    <tr>\n",
       "      <th>230594</th>\n",
       "      <td>W</td>\n",
       "      <td>2</td>\n",
       "      <td>2D</td>\n",
       "    </tr>\n",
       "    <tr>\n",
       "      <th>688544</th>\n",
       "      <td>W</td>\n",
       "      <td>4</td>\n",
       "      <td>4A</td>\n",
       "    </tr>\n",
       "    <tr>\n",
       "      <th>107544</th>\n",
       "      <td>W</td>\n",
       "      <td>7</td>\n",
       "      <td>7A</td>\n",
       "    </tr>\n",
       "    <tr>\n",
       "      <th>378755</th>\n",
       "      <td>W</td>\n",
       "      <td>8</td>\n",
       "      <td>8B</td>\n",
       "    </tr>\n",
       "    <tr>\n",
       "      <th>752762</th>\n",
       "      <td>W</td>\n",
       "      <td>2</td>\n",
       "      <td>2B</td>\n",
       "    </tr>\n",
       "    <tr>\n",
       "      <th>367671</th>\n",
       "      <td>W</td>\n",
       "      <td>3</td>\n",
       "      <td>3C</td>\n",
       "    </tr>\n",
       "    <tr>\n",
       "      <th>378709</th>\n",
       "      <td>W</td>\n",
       "      <td>8</td>\n",
       "      <td>8B</td>\n",
       "    </tr>\n",
       "    <tr>\n",
       "      <th>432006</th>\n",
       "      <td>W</td>\n",
       "      <td>1</td>\n",
       "      <td>1D</td>\n",
       "    </tr>\n",
       "  </tbody>\n",
       "</table>\n",
       "</div>"
      ],
      "text/plain": [
       "       OST_WEST_KZ CAMEO_DEUG_2015 CAMEO_DEU_2015\n",
       "734315           W               8             8B\n",
       "213157           O               9             9B\n",
       "230594           W               2             2D\n",
       "688544           W               4             4A\n",
       "107544           W               7             7A\n",
       "378755           W               8             8B\n",
       "752762           W               2             2B\n",
       "367671           W               3             3C\n",
       "378709           W               8             8B\n",
       "432006           W               1             1D"
      ]
     },
     "execution_count": 161,
     "metadata": {},
     "output_type": "execute_result"
    }
   ],
   "source": [
    "df_lowNaN[df_categorical[-3:]].sample(10)"
   ]
  },
  {
   "cell_type": "code",
   "execution_count": 162,
   "metadata": {},
   "outputs": [
    {
     "data": {
      "text/html": [
       "<div>\n",
       "<style scoped>\n",
       "    .dataframe tbody tr th:only-of-type {\n",
       "        vertical-align: middle;\n",
       "    }\n",
       "\n",
       "    .dataframe tbody tr th {\n",
       "        vertical-align: top;\n",
       "    }\n",
       "\n",
       "    .dataframe thead th {\n",
       "        text-align: right;\n",
       "    }\n",
       "</style>\n",
       "<table border=\"1\" class=\"dataframe\">\n",
       "  <thead>\n",
       "    <tr style=\"text-align: right;\">\n",
       "      <th></th>\n",
       "      <th>OST_WEST_KZ</th>\n",
       "      <th>CAMEO_DEUG_2015</th>\n",
       "      <th>CAMEO_DEU_2015</th>\n",
       "    </tr>\n",
       "  </thead>\n",
       "  <tbody>\n",
       "    <tr>\n",
       "      <th>195717</th>\n",
       "      <td>1</td>\n",
       "      <td>9</td>\n",
       "      <td>9B</td>\n",
       "    </tr>\n",
       "    <tr>\n",
       "      <th>423971</th>\n",
       "      <td>1</td>\n",
       "      <td>8</td>\n",
       "      <td>8B</td>\n",
       "    </tr>\n",
       "    <tr>\n",
       "      <th>105197</th>\n",
       "      <td>0</td>\n",
       "      <td>6</td>\n",
       "      <td>6E</td>\n",
       "    </tr>\n",
       "    <tr>\n",
       "      <th>50378</th>\n",
       "      <td>1</td>\n",
       "      <td>8</td>\n",
       "      <td>8B</td>\n",
       "    </tr>\n",
       "    <tr>\n",
       "      <th>261678</th>\n",
       "      <td>1</td>\n",
       "      <td>2</td>\n",
       "      <td>2D</td>\n",
       "    </tr>\n",
       "  </tbody>\n",
       "</table>\n",
       "</div>"
      ],
      "text/plain": [
       "        OST_WEST_KZ CAMEO_DEUG_2015 CAMEO_DEU_2015\n",
       "195717            1               9             9B\n",
       "423971            1               8             8B\n",
       "105197            0               6             6E\n",
       "50378             1               8             8B\n",
       "261678            1               2             2D"
      ]
     },
     "execution_count": 162,
     "metadata": {},
     "output_type": "execute_result"
    }
   ],
   "source": [
    "# Re-encode categorical variable(s) to be kept in the analysis.\n",
    "df_lowNaN['OST_WEST_KZ'] = df_lowNaN['OST_WEST_KZ'].replace({'O': 0, 'W': 1})\n",
    "df_lowNaN[df_categorical[-3:]].sample(5)"
   ]
  },
  {
   "cell_type": "code",
   "execution_count": 163,
   "metadata": {
    "scrolled": true
   },
   "outputs": [
    {
     "name": "stdout",
     "output_type": "stream",
     "text": [
      "<class 'pandas.core.frame.DataFrame'>\n",
      "RangeIndex: 774743 entries, 0 to 774742\n",
      "Data columns (total 66 columns):\n",
      "ALTERSKATEGORIE_GROB     772147 non-null float64\n",
      "ANREDE_KZ                774743 non-null float64\n",
      "FINANZ_MINIMALIST        774743 non-null float64\n",
      "FINANZ_SPARER            774743 non-null float64\n",
      "FINANZ_VORSORGER         774743 non-null float64\n",
      "FINANZ_ANLEGER           774743 non-null float64\n",
      "FINANZ_UNAUFFAELLIGER    774743 non-null float64\n",
      "FINANZ_HAUSBAUER         774743 non-null float64\n",
      "GREEN_AVANTGARDE         774743 non-null int64\n",
      "HEALTH_TYP               741323 non-null float64\n",
      "LP_LEBENSPHASE_FEIN      732988 non-null float64\n",
      "LP_LEBENSPHASE_GROB      735655 non-null float64\n",
      "PRAEGENDE_JUGENDJAHRE    749241 non-null float64\n",
      "RETOURTYP_BK_S           774743 non-null float64\n",
      "SEMIO_SOZ                774743 non-null float64\n",
      "SEMIO_FAM                774743 non-null float64\n",
      "SEMIO_REL                774743 non-null float64\n",
      "SEMIO_MAT                774743 non-null float64\n",
      "SEMIO_VERT               774743 non-null float64\n",
      "SEMIO_LUST               774743 non-null float64\n",
      "SEMIO_ERL                774743 non-null float64\n",
      "SEMIO_KULT               774743 non-null float64\n",
      "SEMIO_RAT                774743 non-null float64\n",
      "SEMIO_KRIT               774743 non-null float64\n",
      "SEMIO_DOM                774743 non-null float64\n",
      "SEMIO_KAEM               774743 non-null float64\n",
      "SEMIO_PFLICHT            774743 non-null float64\n",
      "SEMIO_TRADV              774743 non-null float64\n",
      "SOHO_KZ                  774743 non-null float64\n",
      "VERS_TYP                 741323 non-null float64\n",
      "ANZ_PERSONEN             774743 non-null float64\n",
      "ANZ_TITEL                774743 non-null float64\n",
      "HH_EINKOMMEN_SCORE       774743 non-null float64\n",
      "W_KEIT_KIND_HH           719486 non-null float64\n",
      "WOHNDAUER_2008           774743 non-null float64\n",
      "ANZ_HAUSHALTE_AKTIV      769092 non-null float64\n",
      "ANZ_HH_TITEL             771580 non-null float64\n",
      "KONSUMNAEHE              774692 non-null float64\n",
      "MIN_GEBAEUDEJAHR         774743 non-null float64\n",
      "OST_WEST_KZ              774743 non-null int64\n",
      "WOHNLAGE                 774743 non-null float64\n",
      "CAMEO_INTL_2015          771287 non-null object\n",
      "KBA05_ANTG1              750542 non-null float64\n",
      "KBA05_ANTG2              750542 non-null float64\n",
      "KBA05_ANTG3              750542 non-null float64\n",
      "KBA05_ANTG4              750542 non-null float64\n",
      "KBA05_GBZ                750542 non-null float64\n",
      "BALLRAUM                 774217 non-null float64\n",
      "EWDICHTE                 774217 non-null float64\n",
      "INNENSTADT               774217 non-null float64\n",
      "GEBAEUDETYP_RASTER       774738 non-null float64\n",
      "KKK                      720607 non-null float64\n",
      "MOBI_REGIO               750542 non-null float64\n",
      "ONLINE_AFFINITAET        774743 non-null float64\n",
      "REGIOTYP                 720607 non-null float64\n",
      "KBA13_ANZAHL_PKW         769260 non-null float64\n",
      "PLZ8_ANTG1               766960 non-null float64\n",
      "PLZ8_ANTG2               766960 non-null float64\n",
      "PLZ8_ANTG3               766960 non-null float64\n",
      "PLZ8_ANTG4               766960 non-null float64\n",
      "PLZ8_BAUMAX              766960 non-null float64\n",
      "PLZ8_HHZ                 766960 non-null float64\n",
      "PLZ8_GBZ                 766960 non-null float64\n",
      "ARBEIT                   770807 non-null float64\n",
      "ORTSGR_KLS9              770893 non-null float64\n",
      "RELAT_AB                 770807 non-null float64\n",
      "dtypes: float64(63), int64(2), object(1)\n",
      "memory usage: 390.1+ MB\n"
     ]
    }
   ],
   "source": [
    "# drop multi-level\n",
    "nunique_categorical = df_lowNaN[df_categorical].nunique()\n",
    "multi_categorical = nunique_categorical[nunique_categorical>2]\n",
    "df_lowNaN = df_lowNaN.drop(columns=multi_categorical.index, axis=0)\n",
    "df_lowNaN.info()"
   ]
  },
  {
   "cell_type": "markdown",
   "metadata": {},
   "source": [
    "#### Discussion 1.2.1: Re-Encode Categorical Features\n",
    "\n",
    "The categorical represents **18%** of the features:\n",
    "- It consists of binary levels that kept as it is.\n",
    "- \"OST_WEST_KZ\" coloumn is encoded (W\"for west\" is replaced by 1 and O\"for east\" is replaced by 0) to numerical values, easier to work with for further procedures\n",
    "- Coloumns with multi-levels values are simply dropped"
   ]
  },
  {
   "cell_type": "markdown",
   "metadata": {},
   "source": [
    "#### Step 1.2.2: Engineer Mixed-Type Features\n",
    "\n",
    "There are a handful of features that are marked as \"mixed\" in the feature summary that require special treatment in order to be included in the analysis. There are two in particular that deserve attention; the handling of the rest are up to your own choices:\n",
    "- \"PRAEGENDE_JUGENDJAHRE\" combines information on three dimensions: generation by decade, movement (mainstream vs. avantgarde), and nation (east vs. west). While there aren't enough levels to disentangle east from west, you should create two new variables to capture the other two dimensions: an interval-type variable for decade, and a binary variable for movement.\n",
    "- \"CAMEO_INTL_2015\" combines information on two axes: wealth and life stage. Break up the two-digit codes by their 'tens'-place and 'ones'-place digits into two new ordinal variables (which, for the purposes of this project, is equivalent to just treating them as their raw numeric values).\n",
    "- If you decide to keep or engineer new features around the other mixed-type features, make sure you note your steps in the Discussion section.\n",
    "\n",
    "Be sure to check `Data_Dictionary.md` for the details needed to finish these tasks."
   ]
  },
  {
   "cell_type": "code",
   "execution_count": 164,
   "metadata": {},
   "outputs": [
    {
     "data": {
      "text/html": [
       "<div>\n",
       "<style scoped>\n",
       "    .dataframe tbody tr th:only-of-type {\n",
       "        vertical-align: middle;\n",
       "    }\n",
       "\n",
       "    .dataframe tbody tr th {\n",
       "        vertical-align: top;\n",
       "    }\n",
       "\n",
       "    .dataframe thead th {\n",
       "        text-align: right;\n",
       "    }\n",
       "</style>\n",
       "<table border=\"1\" class=\"dataframe\">\n",
       "  <thead>\n",
       "    <tr style=\"text-align: right;\">\n",
       "      <th></th>\n",
       "      <th>attribute</th>\n",
       "      <th>information_level</th>\n",
       "      <th>type</th>\n",
       "      <th>missing_or_unknown</th>\n",
       "    </tr>\n",
       "  </thead>\n",
       "  <tbody>\n",
       "    <tr>\n",
       "      <th>15</th>\n",
       "      <td>LP_LEBENSPHASE_FEIN</td>\n",
       "      <td>person</td>\n",
       "      <td>mixed</td>\n",
       "      <td>[0]</td>\n",
       "    </tr>\n",
       "    <tr>\n",
       "      <th>16</th>\n",
       "      <td>LP_LEBENSPHASE_GROB</td>\n",
       "      <td>person</td>\n",
       "      <td>mixed</td>\n",
       "      <td>[0]</td>\n",
       "    </tr>\n",
       "    <tr>\n",
       "      <th>22</th>\n",
       "      <td>PRAEGENDE_JUGENDJAHRE</td>\n",
       "      <td>person</td>\n",
       "      <td>mixed</td>\n",
       "      <td>[-1, 0]</td>\n",
       "    </tr>\n",
       "    <tr>\n",
       "      <th>56</th>\n",
       "      <td>WOHNLAGE</td>\n",
       "      <td>building</td>\n",
       "      <td>mixed</td>\n",
       "      <td>[-1]</td>\n",
       "    </tr>\n",
       "    <tr>\n",
       "      <th>59</th>\n",
       "      <td>CAMEO_INTL_2015</td>\n",
       "      <td>microcell_rr4</td>\n",
       "      <td>mixed</td>\n",
       "      <td>[-1, XX]</td>\n",
       "    </tr>\n",
       "    <tr>\n",
       "      <th>79</th>\n",
       "      <td>PLZ8_BAUMAX</td>\n",
       "      <td>macrocell_plz8</td>\n",
       "      <td>mixed</td>\n",
       "      <td>[-1, 0]</td>\n",
       "    </tr>\n",
       "  </tbody>\n",
       "</table>\n",
       "</div>"
      ],
      "text/plain": [
       "                attribute information_level   type missing_or_unknown\n",
       "15    LP_LEBENSPHASE_FEIN            person  mixed                [0]\n",
       "16    LP_LEBENSPHASE_GROB            person  mixed                [0]\n",
       "22  PRAEGENDE_JUGENDJAHRE            person  mixed            [-1, 0]\n",
       "56               WOHNLAGE          building  mixed               [-1]\n",
       "59        CAMEO_INTL_2015     microcell_rr4  mixed           [-1, XX]\n",
       "79            PLZ8_BAUMAX    macrocell_plz8  mixed            [-1, 0]"
      ]
     },
     "execution_count": 164,
     "metadata": {},
     "output_type": "execute_result"
    }
   ],
   "source": [
    "feat_info[feat_info.type == 'mixed']"
   ]
  },
  {
   "cell_type": "code",
   "execution_count": 165,
   "metadata": {
    "scrolled": true
   },
   "outputs": [
    {
     "data": {
      "text/plain": [
       "539471    14.0\n",
       "751819     8.0\n",
       "652380    10.0\n",
       "216022     8.0\n",
       "85491      1.0\n",
       "499779    14.0\n",
       "596678     8.0\n",
       "645852     8.0\n",
       "176284     5.0\n",
       "156643     6.0\n",
       "473934    15.0\n",
       "709299    14.0\n",
       "699464    14.0\n",
       "141644     8.0\n",
       "314580    14.0\n",
       "497129    12.0\n",
       "584534     3.0\n",
       "52233     15.0\n",
       "86899     14.0\n",
       "364349     9.0\n",
       "Name: PRAEGENDE_JUGENDJAHRE, dtype: float64"
      ]
     },
     "execution_count": 165,
     "metadata": {},
     "output_type": "execute_result"
    }
   ],
   "source": [
    "# 1)PRAEGENDE_JUGENDJAHRE\n",
    "df_lowNaN.PRAEGENDE_JUGENDJAHRE.sample(20)"
   ]
  },
  {
   "cell_type": "code",
   "execution_count": 166,
   "metadata": {},
   "outputs": [
    {
     "data": {
      "text/plain": [
       "15"
      ]
     },
     "execution_count": 166,
     "metadata": {},
     "output_type": "execute_result"
    }
   ],
   "source": [
    "df_lowNaN.PRAEGENDE_JUGENDJAHRE.nunique()"
   ]
  },
  {
   "cell_type": "code",
   "execution_count": 167,
   "metadata": {},
   "outputs": [
    {
     "data": {
      "image/png": "[encoded data removed]",
      "text/plain": [
       "<matplotlib.figure.Figure at 0x7f14f77ccb38>"
      ]
     },
     "metadata": {},
     "output_type": "display_data"
    }
   ],
   "source": [
    "# Investigate \"PRAEGENDE_JUGENDJAHRE\" and engineer two new variables.\n",
    "plt.style.use('ggplot')\n",
    "fig, ax1 = plt.subplots(figsize=(10,5))\n",
    "sns.countplot(data=df_lowNaN,\n",
    "              x='PRAEGENDE_JUGENDJAHRE',\n",
    "              color=\"c\",\n",
    "              ax=ax1);"
   ]
  },
  {
   "cell_type": "code",
   "execution_count": 168,
   "metadata": {},
   "outputs": [
    {
     "data": {
      "text/plain": [
       "14.0    177574\n",
       "8.0     137903\n",
       "10.0     83394\n",
       "5.0      83112\n",
       "3.0      52758\n",
       "15.0     40803\n",
       "11.0     34385\n",
       "9.0      32939\n",
       "6.0      25311\n",
       "12.0     23925\n",
       "4.0      20185\n",
       "1.0      20106\n",
       "2.0       7387\n",
       "13.0      5520\n",
       "7.0       3939\n",
       "Name: PRAEGENDE_JUGENDJAHRE, dtype: int64"
      ]
     },
     "execution_count": 168,
     "metadata": {},
     "output_type": "execute_result"
    }
   ],
   "source": [
    "df_lowNaN.PRAEGENDE_JUGENDJAHRE.value_counts().sort_values(ascending=False)"
   ]
  },
  {
   "cell_type": "code",
   "execution_count": 169,
   "metadata": {},
   "outputs": [
    {
     "name": "stdout",
     "output_type": "stream",
     "text": [
      "Percentage of NaNs\"s avg in PRAEGENDE_JUGENDJAHRE: 3.29167220614\n"
     ]
    }
   ],
   "source": [
    "print('Percentage of NaNs\"s avg in PRAEGENDE_JUGENDJAHRE:',df_lowNaN.PRAEGENDE_JUGENDJAHRE.isnull().mean()*100)"
   ]
  },
  {
   "cell_type": "code",
   "execution_count": 170,
   "metadata": {},
   "outputs": [],
   "source": [
    "# based on the info get from the Data_Dictionary\n",
    "decade = {     1: 1, \n",
    "               2: 1, \n",
    "               3: 2, \n",
    "               4: 2,\n",
    "               5: 3,\n",
    "               6: 3, \n",
    "               7: 3,\n",
    "               8: 4,\n",
    "               9: 4, \n",
    "               10: 5, \n",
    "               11: 5, \n",
    "               12: 5, \n",
    "               13: 5,\n",
    "               14: 6, \n",
    "               15: 6\n",
    "         }\n",
    "#Mainstream --> 1 and Avantage--->2\n",
    "movement = {     1: 1,\n",
    "                 3: 1, \n",
    "                 5: 1, \n",
    "                 8: 1, \n",
    "                 10: 1, \n",
    "                 12: 1, \n",
    "                 14: 1,\n",
    "                 2: 2, \n",
    "                 4: 2,\n",
    "                 6: 2, \n",
    "                 7: 2, \n",
    "                 9: 2, \n",
    "                 11: 2, \n",
    "                 13: 2, \n",
    "                 15: 2\n",
    "                }\n",
    "df_lowNaN['DECADE'] = df_lowNaN['PRAEGENDE_JUGENDJAHRE'].map(decade)\n",
    "df_lowNaN['MOVEMENT'] = df_lowNaN['PRAEGENDE_JUGENDJAHRE'].map(movement)"
   ]
  },
  {
   "cell_type": "code",
   "execution_count": 171,
   "metadata": {},
   "outputs": [
    {
     "data": {
      "image/png": "[encoded data removed]",
      "text/plain": [
       "<matplotlib.figure.Figure at 0x7f14f38fcef0>"
      ]
     },
     "metadata": {},
     "output_type": "display_data"
    }
   ],
   "source": [
    "# visualize the decade after creating its coloumn\n",
    "fig, ax1 = plt.subplots(figsize=(10,5))\n",
    "sns.countplot(data=df_lowNaN,\n",
    "              x='DECADE',\n",
    "              palette=\"Blues\",\n",
    "              ax=ax1);"
   ]
  },
  {
   "cell_type": "code",
   "execution_count": 172,
   "metadata": {},
   "outputs": [
    {
     "data": {
      "image/png": "[encoded data removed]",
      "text/plain": [
       "<matplotlib.figure.Figure at 0x7f1542c0dd30>"
      ]
     },
     "metadata": {},
     "output_type": "display_data"
    }
   ],
   "source": [
    "# visualize the movement after creating its coloumn\n",
    "fig, ax1 = plt.subplots(figsize=(10,5))\n",
    "sns.countplot(data=df_lowNaN,\n",
    "              x='MOVEMENT',\n",
    "              palette=\"Blues\",\n",
    "              ax=ax1);"
   ]
  },
  {
   "cell_type": "code",
   "execution_count": 173,
   "metadata": {},
   "outputs": [],
   "source": [
    "# drop the original coloumn\n",
    "df_lowNaN.drop(['PRAEGENDE_JUGENDJAHRE'], axis = 1, inplace=True)"
   ]
  },
  {
   "cell_type": "code",
   "execution_count": 174,
   "metadata": {},
   "outputs": [],
   "source": [
    "###############################################################################################################################"
   ]
  },
  {
   "cell_type": "code",
   "execution_count": 175,
   "metadata": {},
   "outputs": [
    {
     "data": {
      "text/plain": [
       "176929    24\n",
       "642297    23\n",
       "747793    51\n",
       "62162     14\n",
       "17513     25\n",
       "153099    31\n",
       "722555    43\n",
       "556449    45\n",
       "734161    41\n",
       "347674    34\n",
       "Name: CAMEO_INTL_2015, dtype: object"
      ]
     },
     "execution_count": 175,
     "metadata": {},
     "output_type": "execute_result"
    }
   ],
   "source": [
    "# 2)CAMEO_INTL_2015\n",
    "df_lowNaN.CAMEO_INTL_2015.sample(10)"
   ]
  },
  {
   "cell_type": "code",
   "execution_count": 176,
   "metadata": {
    "scrolled": true
   },
   "outputs": [
    {
     "data": {
      "image/png": "[encoded data removed]",
      "text/plain": [
       "<matplotlib.figure.Figure at 0x7f1542c14ef0>"
      ]
     },
     "metadata": {},
     "output_type": "display_data"
    }
   ],
   "source": [
    "# visualize CAMEO_INTL_2015\n",
    "plt.style.use('ggplot')\n",
    "fig, ax1 = plt.subplots(figsize=(10,5))\n",
    "sns.countplot(data=df_lowNaN,\n",
    "              x='CAMEO_INTL_2015',\n",
    "              color=\"g\",\n",
    "              ax=ax1);"
   ]
  },
  {
   "cell_type": "code",
   "execution_count": 177,
   "metadata": {
    "scrolled": true
   },
   "outputs": [
    {
     "data": {
      "text/plain": [
       "51    132086\n",
       "41     90430\n",
       "24     88559\n",
       "14     60994\n",
       "43     55429\n",
       "54     44745\n",
       "25     38587\n",
       "22     31990\n",
       "45     25610\n",
       "13     25477\n",
       "23     24111\n",
       "55     23440\n",
       "52     20258\n",
       "34     18111\n",
       "31     17721\n",
       "15     16645\n",
       "44     14502\n",
       "12     12795\n",
       "35     10139\n",
       "32     10087\n",
       "33      9571\n",
       "Name: CAMEO_INTL_2015, dtype: int64"
      ]
     },
     "execution_count": 177,
     "metadata": {},
     "output_type": "execute_result"
    }
   ],
   "source": [
    "df_lowNaN.CAMEO_INTL_2015.value_counts().sort_values(ascending=False)"
   ]
  },
  {
   "cell_type": "code",
   "execution_count": 178,
   "metadata": {},
   "outputs": [
    {
     "name": "stdout",
     "output_type": "stream",
     "text": [
      "Percentage of NaNs\"s avg in CAMEO_INTL_2015: 0.446083410886\n"
     ]
    }
   ],
   "source": [
    "print('Percentage of NaNs\"s avg in CAMEO_INTL_2015:',df_lowNaN.CAMEO_INTL_2015.isnull().mean()*100)"
   ]
  },
  {
   "cell_type": "code",
   "execution_count": 179,
   "metadata": {},
   "outputs": [],
   "source": [
    "# Investigate \"CAMEO_INTL_2015\" and engineer two new variables.\n",
    "# function to break up codes\n",
    "def breakCode(feature, digit):\n",
    "    # make sure first that it's not a NaN value\n",
    "    if not pd.isna(feature):\n",
    "        if digit == 'wealth':\n",
    "            return int(str(feature)[0]) # access on coloumn\n",
    "        elif digit == 'life_stage':\n",
    "            return int(str(feature)[1]) # access on row\n",
    "    return feature\n",
    " \n",
    "df_lowNaN['WEALTH'] = df_lowNaN['CAMEO_INTL_2015'].apply(breakCode, digit='wealth')\n",
    "df_lowNaN['LIFE_STAGE'] = df_lowNaN['CAMEO_INTL_2015'].apply(breakCode, digit='life_stage')"
   ]
  },
  {
   "cell_type": "code",
   "execution_count": 180,
   "metadata": {},
   "outputs": [
    {
     "data": {
      "image/png": "[encoded data removed]",
      "text/plain": [
       "<matplotlib.figure.Figure at 0x7f1542b80e10>"
      ]
     },
     "metadata": {},
     "output_type": "display_data"
    }
   ],
   "source": [
    "# visualize Wealth\n",
    "fig, ax1 = plt.subplots(figsize=(10,5))\n",
    "sns.countplot(data=df_lowNaN,\n",
    "              x='WEALTH',\n",
    "              color = \"g\",\n",
    "              ax=ax1);"
   ]
  },
  {
   "cell_type": "code",
   "execution_count": 181,
   "metadata": {},
   "outputs": [
    {
     "data": {
      "image/png": "[encoded data removed]",
      "text/plain": [
       "<matplotlib.figure.Figure at 0x7f1542c61588>"
      ]
     },
     "metadata": {},
     "output_type": "display_data"
    }
   ],
   "source": [
    "# visualize Life_stage\n",
    "fig, ax1 = plt.subplots(figsize=(10,5))\n",
    "sns.countplot(data=df_lowNaN,\n",
    "              x='LIFE_STAGE',\n",
    "              color = \"g\",\n",
    "              ax=ax1);"
   ]
  },
  {
   "cell_type": "code",
   "execution_count": 182,
   "metadata": {},
   "outputs": [],
   "source": [
    "# drop CAMEO_INTL_2015\n",
    "df_lowNaN.drop(['CAMEO_INTL_2015'], axis = 1, inplace=True)"
   ]
  },
  {
   "cell_type": "code",
   "execution_count": 183,
   "metadata": {},
   "outputs": [],
   "source": [
    "from pandas.api.types import is_numeric_dtype\n",
    "\n",
    "assert(sum([is_numeric_dtype(df_lowNaN[col]) for col in df_lowNaN.columns]) == df_lowNaN.shape[1])\n",
    "\n",
    "# quick check\n",
    "#if (sum([is_numeric_dtype(df_lowNaN[col]) for col in df_lowNaN.columns]) == df_lowNaN.shape[1]):\n",
    "#    print(\"Ready\")"
   ]
  },
  {
   "cell_type": "code",
   "execution_count": 184,
   "metadata": {},
   "outputs": [
    {
     "data": {
      "text/plain": [
       "(774743, 68)"
      ]
     },
     "execution_count": 184,
     "metadata": {},
     "output_type": "execute_result"
    }
   ],
   "source": [
    "df_lowNaN.shape"
   ]
  },
  {
   "cell_type": "markdown",
   "metadata": {},
   "source": [
    "#### Discussion 1.2.2: Engineer Mixed-Type Features\n",
    "\n",
    "### 1) PRAEGENDE_JUGENDJAHRE:\n",
    "- This point consists of the following (based on Data_Dictinoary.md): \n",
    "   -  1: 40s - war years (Mainstream, E+W)\n",
    "   -  2: 40s - reconstruction years (Avantgarde, E+W)\n",
    "   -  3: 50s - economic miracle (Mainstream, E+W)\n",
    "   -  4: 50s - milk bar / Individualisation (Avantgarde, E+W)\n",
    "   -  5: 60s - economic miracle (Mainstream, E+W)\n",
    "   -  6: 60s - generation 68 / student protestors (Avantgarde, W)\n",
    "   -  7: 60s - opponents to the building of the Wall (Avantgarde, E)\n",
    "   -  8: 70s - family orientation (Mainstream, E+W)\n",
    "   -  9: 70s - peace movement (Avantgarde, E+W)\n",
    "   - 10: 80s - Generation Golf (Mainstream, W)\n",
    "   - 11: 80s - ecological awareness (Avantgarde, W)\n",
    "   - 12: 80s - FDJ / communist party youth organisation (Mainstream, E)\n",
    "   - 13: 80s - Swords into ploughshares (Avantgarde, E)\n",
    "   - 14: 90s - digital media kids (Mainstream, E+W)\n",
    "   - 15: 90s - ecological awareness (Avantgarde, E+W)\n",
    " - It's split into 2 major subpoints which are **DECADES** from(40-90s) and **MOVEMENT** (between Avantgarde and Mainstream)\n",
    " - Steps taken:\n",
    "    - A dict is created to map decades \n",
    "    - A dict is created to map movement (Mainstream --> 1 and Avantage---> 2)\n",
    "    - 2 new coloumns are added (DECADES and MOVEMENT) \n",
    "    - Original coloumn is dropped\n",
    "    - Plots are created after nearly each step for a better visualization and a good understanding of data since it's easier to pick information from diagrams than just reading numbers which might be confusing\n",
    "    \n",
    "\n",
    "### 2) CAMEO_INTL_2015\n",
    "- This point consists of the following (based on Data_Dictinoary.md): \n",
    "  - -1: unknown\n",
    "  - 11: Wealthy Households - Pre-Family Couples & Singles\n",
    "  - 12: Wealthy Households - Young Couples With Children\n",
    "  - 13: Wealthy Households - Families With School Age Children\n",
    "  - 14: Wealthy Households - Older Families &  Mature Couples\n",
    "  - 15: Wealthy Households - Elders In Retirement\n",
    "  - 21: Prosperous Households - Pre-Family Couples & Singles\n",
    "  - 22: Prosperous Households - Young Couples With Children\n",
    "  - 23: Prosperous Households - Families With School Age Children\n",
    "  - 24: Prosperous Households - Older Families & Mature Couples\n",
    "  - 25: Prosperous Households - Elders In Retirement\n",
    "  - 31: Comfortable Households - Pre-Family Couples & Singles\n",
    "  - 32: Comfortable Households - Young Couples With Children\n",
    "  - 33: Comfortable Households - Families With School Age Children\n",
    "  - 34: Comfortable Households - Older Families & Mature Couples\n",
    "  - 35: Comfortable Households - Elders In Retirement\n",
    "  - 41: Less Affluent Households - Pre-Family Couples & Singles\n",
    "  - 42: Less Affluent Households - Young Couples With Children\n",
    "  - 43: Less Affluent Households - Families With School Age Children\n",
    "  - 44: Less Affluent Households - Older Families & Mature Couples\n",
    "  - 45: Less Affluent Households - Elders In Retirement\n",
    "  - 51: Poorer Households - Pre-Family Couples & Singles\n",
    "  - 52: Poorer Households - Young Couples With Children\n",
    "  - 53: Poorer Households - Families With School Age Children\n",
    "  - 54: Poorer Households - Older Families & Mature Couples\n",
    "  - 55: Poorer Households - Elders In Retirement\n",
    "  - XX: unknown\n",
    "- It gives information about 2 social living (one for **WEALTH** and the second for the **LIFE_STAGE**)\n",
    "- Steps taken:\n",
    "  - Apply function **breakCode** along an axis of the DataFrame to break up between wealth and life stage and save the new coloumns created\n",
    "  - Original coloumn is dropped\n",
    "  - Better visualization and good undersatnding through diagrams\n",
    "  \n",
    "- NOTE:\n",
    "the shape of dataset is reduced (from (891221, 85) to (774743, 68))\n",
    "\n",
    "### 3) Complete Feature Selection:\n",
    "- In the next step, 'PLZ8_BAUMAX','LP_LEBENSPHASE_FEIN','LP_LEBENSPHASE_GROB' will be dropped for some reasons:\n",
    "  - mixture only presents 6%\n",
    "  - After a careful look to the Data_Dictionary, I've found that:\n",
    "    - PLZ8_BAUMAX: describes most common building type within the PLZ8 region (family homes and business buildings) which could be a non-affecting point on the dataset, specially that family homes are \"majority\" which could be an information derivative from CAMEO_INTL_2015 \n",
    "    - LP_LEBENSPHASE_FEIN: again it describes life stage and fine scale which are nearely covered by CAMEO_INTL_2015\n",
    "    - LP_LEBENSPHASE_GROB: describes again life stage and rough scale, it could be considered as a repetitive information.\n",
    "      This coloumn and the one below it could be combined as CAMEO_INTL_2015 \n",
    "  - The shape of dataset will be reduced from (774743, 68) to (774743, 65)\n",
    "  - Interpolate function used to fill NA values in the dataframe"
   ]
  },
  {
   "cell_type": "markdown",
   "metadata": {},
   "source": [
    "#### Step 1.2.3: Complete Feature Selection\n",
    "\n",
    "In order to finish this step up, you need to make sure that your data frame now only has the columns that you want to keep. To summarize, the dataframe should consist of the following:\n",
    "- All numeric, interval, and ordinal type columns from the original dataset.\n",
    "- Binary categorical features (all numerically-encoded).\n",
    "- Engineered features from other multi-level categorical features and mixed features.\n",
    "\n",
    "Make sure that for any new columns that you have engineered, that you've excluded the original columns from the final dataset. Otherwise, their values will interfere with the analysis later on the project. For example, you should not keep \"PRAEGENDE_JUGENDJAHRE\", since its values won't be useful for the algorithm: only the values derived from it in the engineered features you created should be retained. As a reminder, your data should only be from **the subset with few or no missing values**."
   ]
  },
  {
   "cell_type": "code",
   "execution_count": 185,
   "metadata": {},
   "outputs": [],
   "source": [
    "# If there are other re-engineering tasks you need to perform, make sure you\n",
    "# take care of them here. (Dealing with missing data will come in step 2.1.)\n",
    "# Do whatever you need to in order to ensure that the dataframe only contains\n",
    "# the columns that should be passed to the algorithm functions."
   ]
  },
  {
   "cell_type": "code",
   "execution_count": 186,
   "metadata": {},
   "outputs": [],
   "source": [
    "df_lowNaN.drop(['PLZ8_BAUMAX','LP_LEBENSPHASE_FEIN','LP_LEBENSPHASE_GROB'], axis = 1, inplace=True)"
   ]
  },
  {
   "cell_type": "code",
   "execution_count": 187,
   "metadata": {},
   "outputs": [
    {
     "data": {
      "text/plain": [
       "(774743, 65)"
      ]
     },
     "execution_count": 187,
     "metadata": {},
     "output_type": "execute_result"
    }
   ],
   "source": [
    "df_lowNaN.shape"
   ]
  },
  {
   "cell_type": "code",
   "execution_count": 188,
   "metadata": {},
   "outputs": [
    {
     "data": {
      "text/plain": [
       "Index(['ALTERSKATEGORIE_GROB', 'ANREDE_KZ', 'FINANZ_MINIMALIST',\n",
       "       'FINANZ_SPARER', 'FINANZ_VORSORGER', 'FINANZ_ANLEGER',\n",
       "       'FINANZ_UNAUFFAELLIGER', 'FINANZ_HAUSBAUER', 'GREEN_AVANTGARDE',\n",
       "       'HEALTH_TYP', 'RETOURTYP_BK_S', 'SEMIO_SOZ', 'SEMIO_FAM', 'SEMIO_REL',\n",
       "       'SEMIO_MAT', 'SEMIO_VERT', 'SEMIO_LUST', 'SEMIO_ERL', 'SEMIO_KULT',\n",
       "       'SEMIO_RAT', 'SEMIO_KRIT', 'SEMIO_DOM', 'SEMIO_KAEM', 'SEMIO_PFLICHT',\n",
       "       'SEMIO_TRADV', 'SOHO_KZ', 'VERS_TYP', 'ANZ_PERSONEN', 'ANZ_TITEL',\n",
       "       'HH_EINKOMMEN_SCORE', 'W_KEIT_KIND_HH', 'WOHNDAUER_2008',\n",
       "       'ANZ_HAUSHALTE_AKTIV', 'ANZ_HH_TITEL', 'KONSUMNAEHE',\n",
       "       'MIN_GEBAEUDEJAHR', 'OST_WEST_KZ', 'WOHNLAGE', 'KBA05_ANTG1',\n",
       "       'KBA05_ANTG2', 'KBA05_ANTG3', 'KBA05_ANTG4', 'KBA05_GBZ', 'BALLRAUM',\n",
       "       'EWDICHTE', 'INNENSTADT', 'GEBAEUDETYP_RASTER', 'KKK', 'MOBI_REGIO',\n",
       "       'ONLINE_AFFINITAET', 'REGIOTYP', 'KBA13_ANZAHL_PKW', 'PLZ8_ANTG1',\n",
       "       'PLZ8_ANTG2', 'PLZ8_ANTG3', 'PLZ8_ANTG4', 'PLZ8_HHZ', 'PLZ8_GBZ',\n",
       "       'ARBEIT', 'ORTSGR_KLS9', 'RELAT_AB', 'DECADE', 'MOVEMENT', 'WEALTH',\n",
       "       'LIFE_STAGE'],\n",
       "      dtype='object')"
      ]
     },
     "execution_count": 188,
     "metadata": {},
     "output_type": "execute_result"
    }
   ],
   "source": [
    "df_lowNaN.columns"
   ]
  },
  {
   "cell_type": "code",
   "execution_count": 189,
   "metadata": {},
   "outputs": [
    {
     "data": {
      "text/html": [
       "<div>\n",
       "<style scoped>\n",
       "    .dataframe tbody tr th:only-of-type {\n",
       "        vertical-align: middle;\n",
       "    }\n",
       "\n",
       "    .dataframe tbody tr th {\n",
       "        vertical-align: top;\n",
       "    }\n",
       "\n",
       "    .dataframe thead th {\n",
       "        text-align: right;\n",
       "    }\n",
       "</style>\n",
       "<table border=\"1\" class=\"dataframe\">\n",
       "  <thead>\n",
       "    <tr style=\"text-align: right;\">\n",
       "      <th></th>\n",
       "      <th>ALTERSKATEGORIE_GROB</th>\n",
       "      <th>ANREDE_KZ</th>\n",
       "      <th>FINANZ_MINIMALIST</th>\n",
       "      <th>FINANZ_SPARER</th>\n",
       "      <th>FINANZ_VORSORGER</th>\n",
       "      <th>FINANZ_ANLEGER</th>\n",
       "      <th>FINANZ_UNAUFFAELLIGER</th>\n",
       "      <th>FINANZ_HAUSBAUER</th>\n",
       "      <th>GREEN_AVANTGARDE</th>\n",
       "      <th>HEALTH_TYP</th>\n",
       "      <th>...</th>\n",
       "      <th>PLZ8_ANTG4</th>\n",
       "      <th>PLZ8_HHZ</th>\n",
       "      <th>PLZ8_GBZ</th>\n",
       "      <th>ARBEIT</th>\n",
       "      <th>ORTSGR_KLS9</th>\n",
       "      <th>RELAT_AB</th>\n",
       "      <th>DECADE</th>\n",
       "      <th>MOVEMENT</th>\n",
       "      <th>WEALTH</th>\n",
       "      <th>LIFE_STAGE</th>\n",
       "    </tr>\n",
       "  </thead>\n",
       "  <tbody>\n",
       "    <tr>\n",
       "      <th>0</th>\n",
       "      <td>1.0</td>\n",
       "      <td>2.0</td>\n",
       "      <td>1.0</td>\n",
       "      <td>5.0</td>\n",
       "      <td>2.0</td>\n",
       "      <td>5.0</td>\n",
       "      <td>4.0</td>\n",
       "      <td>5.0</td>\n",
       "      <td>0</td>\n",
       "      <td>3.0</td>\n",
       "      <td>...</td>\n",
       "      <td>1.0</td>\n",
       "      <td>5.0</td>\n",
       "      <td>4.0</td>\n",
       "      <td>3.0</td>\n",
       "      <td>5.0</td>\n",
       "      <td>4.0</td>\n",
       "      <td>6.0</td>\n",
       "      <td>1.0</td>\n",
       "      <td>5.0</td>\n",
       "      <td>1.0</td>\n",
       "    </tr>\n",
       "    <tr>\n",
       "      <th>1</th>\n",
       "      <td>3.0</td>\n",
       "      <td>2.0</td>\n",
       "      <td>1.0</td>\n",
       "      <td>4.0</td>\n",
       "      <td>1.0</td>\n",
       "      <td>2.0</td>\n",
       "      <td>3.0</td>\n",
       "      <td>5.0</td>\n",
       "      <td>1</td>\n",
       "      <td>3.0</td>\n",
       "      <td>...</td>\n",
       "      <td>0.0</td>\n",
       "      <td>4.0</td>\n",
       "      <td>4.0</td>\n",
       "      <td>3.0</td>\n",
       "      <td>5.0</td>\n",
       "      <td>2.0</td>\n",
       "      <td>6.0</td>\n",
       "      <td>2.0</td>\n",
       "      <td>2.0</td>\n",
       "      <td>4.0</td>\n",
       "    </tr>\n",
       "    <tr>\n",
       "      <th>2</th>\n",
       "      <td>4.0</td>\n",
       "      <td>2.0</td>\n",
       "      <td>4.0</td>\n",
       "      <td>2.0</td>\n",
       "      <td>5.0</td>\n",
       "      <td>2.0</td>\n",
       "      <td>1.0</td>\n",
       "      <td>2.0</td>\n",
       "      <td>0</td>\n",
       "      <td>2.0</td>\n",
       "      <td>...</td>\n",
       "      <td>0.0</td>\n",
       "      <td>3.0</td>\n",
       "      <td>4.0</td>\n",
       "      <td>2.0</td>\n",
       "      <td>3.0</td>\n",
       "      <td>3.0</td>\n",
       "      <td>4.0</td>\n",
       "      <td>1.0</td>\n",
       "      <td>1.0</td>\n",
       "      <td>2.0</td>\n",
       "    </tr>\n",
       "    <tr>\n",
       "      <th>3</th>\n",
       "      <td>3.0</td>\n",
       "      <td>1.0</td>\n",
       "      <td>4.0</td>\n",
       "      <td>3.0</td>\n",
       "      <td>4.0</td>\n",
       "      <td>1.0</td>\n",
       "      <td>3.0</td>\n",
       "      <td>2.0</td>\n",
       "      <td>0</td>\n",
       "      <td>3.0</td>\n",
       "      <td>...</td>\n",
       "      <td>1.0</td>\n",
       "      <td>3.0</td>\n",
       "      <td>3.0</td>\n",
       "      <td>4.0</td>\n",
       "      <td>6.0</td>\n",
       "      <td>5.0</td>\n",
       "      <td>4.0</td>\n",
       "      <td>1.0</td>\n",
       "      <td>4.0</td>\n",
       "      <td>3.0</td>\n",
       "    </tr>\n",
       "    <tr>\n",
       "      <th>4</th>\n",
       "      <td>1.0</td>\n",
       "      <td>2.0</td>\n",
       "      <td>3.0</td>\n",
       "      <td>1.0</td>\n",
       "      <td>5.0</td>\n",
       "      <td>2.0</td>\n",
       "      <td>2.0</td>\n",
       "      <td>5.0</td>\n",
       "      <td>0</td>\n",
       "      <td>3.0</td>\n",
       "      <td>...</td>\n",
       "      <td>1.0</td>\n",
       "      <td>5.0</td>\n",
       "      <td>5.0</td>\n",
       "      <td>2.0</td>\n",
       "      <td>3.0</td>\n",
       "      <td>3.0</td>\n",
       "      <td>2.0</td>\n",
       "      <td>1.0</td>\n",
       "      <td>5.0</td>\n",
       "      <td>4.0</td>\n",
       "    </tr>\n",
       "  </tbody>\n",
       "</table>\n",
       "<p>5 rows × 65 columns</p>\n",
       "</div>"
      ],
      "text/plain": [
       "   ALTERSKATEGORIE_GROB  ANREDE_KZ  FINANZ_MINIMALIST  FINANZ_SPARER  \\\n",
       "0                   1.0        2.0                1.0            5.0   \n",
       "1                   3.0        2.0                1.0            4.0   \n",
       "2                   4.0        2.0                4.0            2.0   \n",
       "3                   3.0        1.0                4.0            3.0   \n",
       "4                   1.0        2.0                3.0            1.0   \n",
       "\n",
       "   FINANZ_VORSORGER  FINANZ_ANLEGER  FINANZ_UNAUFFAELLIGER  FINANZ_HAUSBAUER  \\\n",
       "0               2.0             5.0                    4.0               5.0   \n",
       "1               1.0             2.0                    3.0               5.0   \n",
       "2               5.0             2.0                    1.0               2.0   \n",
       "3               4.0             1.0                    3.0               2.0   \n",
       "4               5.0             2.0                    2.0               5.0   \n",
       "\n",
       "   GREEN_AVANTGARDE  HEALTH_TYP     ...      PLZ8_ANTG4  PLZ8_HHZ  PLZ8_GBZ  \\\n",
       "0                 0         3.0     ...             1.0       5.0       4.0   \n",
       "1                 1         3.0     ...             0.0       4.0       4.0   \n",
       "2                 0         2.0     ...             0.0       3.0       4.0   \n",
       "3                 0         3.0     ...             1.0       3.0       3.0   \n",
       "4                 0         3.0     ...             1.0       5.0       5.0   \n",
       "\n",
       "   ARBEIT  ORTSGR_KLS9  RELAT_AB  DECADE  MOVEMENT  WEALTH  LIFE_STAGE  \n",
       "0     3.0          5.0       4.0     6.0       1.0     5.0         1.0  \n",
       "1     3.0          5.0       2.0     6.0       2.0     2.0         4.0  \n",
       "2     2.0          3.0       3.0     4.0       1.0     1.0         2.0  \n",
       "3     4.0          6.0       5.0     4.0       1.0     4.0         3.0  \n",
       "4     2.0          3.0       3.0     2.0       1.0     5.0         4.0  \n",
       "\n",
       "[5 rows x 65 columns]"
      ]
     },
     "execution_count": 189,
     "metadata": {},
     "output_type": "execute_result"
    }
   ],
   "source": [
    "df_lowNaN.head()"
   ]
  },
  {
   "cell_type": "code",
   "execution_count": 190,
   "metadata": {},
   "outputs": [],
   "source": [
    "for col in df_lowNaN.columns:\n",
    "        df_lowNaN[col] = df_lowNaN[col].interpolate(limit_direction='both')"
   ]
  },
  {
   "cell_type": "code",
   "execution_count": 191,
   "metadata": {},
   "outputs": [
    {
     "data": {
      "text/plain": [
       "0"
      ]
     },
     "execution_count": 191,
     "metadata": {},
     "output_type": "execute_result"
    }
   ],
   "source": [
    "df_lowNaN.isnull().sum().sum()"
   ]
  },
  {
   "cell_type": "code",
   "execution_count": 192,
   "metadata": {},
   "outputs": [
    {
     "data": {
      "text/plain": [
       "(774743, 65)"
      ]
     },
     "execution_count": 192,
     "metadata": {},
     "output_type": "execute_result"
    }
   ],
   "source": [
    "df_lowNaN.shape"
   ]
  },
  {
   "cell_type": "markdown",
   "metadata": {},
   "source": [
    "### Step 1.3: Create a Cleaning Function\n",
    "\n",
    "Even though you've finished cleaning up the general population demographics data, it's important to look ahead to the future and realize that you'll need to perform the same cleaning steps on the customer demographics data. In this substep, complete the function below to execute the main feature selection, encoding, and re-engineering steps you performed above. Then, when it comes to looking at the customer data in Step 3, you can just run this function on that DataFrame to get the trimmed dataset in a single step."
   ]
  },
  {
   "cell_type": "code",
   "execution_count": 102,
   "metadata": {},
   "outputs": [],
   "source": [
    "missing_data_encode = dict(zip(feat_info.attribute, feat_info.missing_or_unknown))\n",
    "#missing_data_encode"
   ]
  },
  {
   "cell_type": "code",
   "execution_count": 209,
   "metadata": {},
   "outputs": [],
   "source": [
    "# convert missing value codes into NaNs, ...\n",
    "def missingData_toNaN(df,debug=False):\n",
    "    for col in missing_data_encode.keys():\n",
    "        if debug:\n",
    "            print(col, 'nans before: ', df[col].isnull().sum())\n",
    "        df.loc[df[col].isin(missing_data_encode[col]), col] = np.nan\n",
    "        if debug:\n",
    "            print(col, 'nans after: ', df[col].isnull().sum(), '\\n')\n",
    "    print(df.shape)\n",
    "    return df\n",
    "\n",
    "\n",
    "# remove selected columns and rows, ...\n",
    "def remove_col(df):\n",
    "    print('removing col')\n",
    "    df = df.drop(columns=missing_20, axis=1)\n",
    "    print(df.shape)\n",
    "    return  df\n",
    "\n",
    "def remove_row(df):\n",
    "    threshhold = 0.1\n",
    "    df['R_percNaN'] = df.isnull().mean(axis=1)\n",
    "    \n",
    "    df_lowNaN = df.loc[df['R_percNaN'] < threshhold, :].\\\n",
    "                                drop(columns='R_percNaN', axis=1)\n",
    "    print(df_lowNaN.shape)\n",
    "    return df_lowNaN\n",
    "\n",
    "#    df['R_percNaN'] = df.isnull().mean(axis=1)\n",
    "#    df_NaN = df.loc[df['R_percNaN'],:] \n",
    "#    if df_NaN < threshold:\n",
    "#        df_NaN=df_NaN.drop(columns='R_percNaN', axis=1)\n",
    "#    else:\n",
    "#        pass\n",
    "#    print('removed row')\n",
    "#    return df_NaN    \n",
    "\n",
    "# select, re-encode, and engineer column values.\n",
    "# 1) reencode Categorical Feature\n",
    "def reencode_categorical(df,feature):\n",
    "    df[feature]=df[feature].replace({'W':1,'O':0})\n",
    "    df_categorical = feat_info[feat_info.type == 'categorical'].attribute\n",
    "    nunique = df[df_categorical].nunique()\n",
    "    encoded = nunique[nunique > 2]\n",
    "    df = df.drop(columns=encoded.index, axis=0)\n",
    "    print('encoded categorical')\n",
    "    print(df.shape)\n",
    "    return df\n",
    "# 2) engineer Mixture Feature\n",
    "def eng_mixture(df):\n",
    "    decade = {1: 1,  2: 1, 3: 2, 4: 2, 5: 3, 6: 3, 7: 3, 8: 4, 9: 4, 10: 5, 11: 5, 12: 5, 13: 5, 14: 6, 15: 6}\n",
    "    movement = {1: 1, 3: 1, 5: 1, 8: 1, 10: 1, 12: 1, 14: 1, 2: 2, 4: 2, 6: 2, 7: 2, 9: 2, 11: 2, 13: 2, 15: 2}\n",
    "    df['DECADE'] = df['PRAEGENDE_JUGENDJAHRE'].map(decade)\n",
    "    df['MOVEMENT'] = df['PRAEGENDE_JUGENDJAHRE'].map(movement)\n",
    "    df['WEALTH'] = df['CAMEO_INTL_2015'].apply(breakCode, digit='wealth')\n",
    "    df['LIFE_STAGE'] = df['CAMEO_INTL_2015'].apply(breakCode, digit='life_stage')\n",
    "    #df = df.drop(['PRAEGENDE_JUGENDJAHRE','CAMEO_INTL_2015'])\n",
    "    print('eng mixture')\n",
    "    print(df.shape)\n",
    "    return df\n",
    "\n",
    "\n",
    "\n",
    "\n",
    "\n",
    "# Put in code here to execute all main cleaning steps:\n",
    "def clean_data(df):\n",
    "    df_converted = missingData_toNaN(df)\n",
    "    print('DONE Converted into NaN')\n",
    "    df_removedCol = remove_col(df_converted)\n",
    "    print('DONE dropping col')\n",
    "    df_removedRow = remove_row(df_removedCol)\n",
    "    print('DONE dropping row')\n",
    "    df_encoded =  reencode_categorical(df_removedRow,'OST_WEST_KZ')\n",
    "    print('DONE encoding OST_WEST_KZ')\n",
    "    df_eng = eng_mixture(df_encoded)\n",
    "    print('DONE engineering Mixture')\n",
    "    df_drop = df_eng.drop(['PLZ8_BAUMAX','LP_LEBENSPHASE_FEIN','LP_LEBENSPHASE_GROB'],axis=1)\n",
    "    print('DONE dropping Mix col')\n",
    "    #df_drop.columns = df_lowNaN.columns\n",
    "    for col in df_drop.columns:\n",
    "        df_drop[col] = df_drop[col].interpolate(limit_direction='both')\n",
    "    print('Test Checked')\n",
    "    return df_drop    \n",
    "# Return the cleaned dataframe"
   ]
  },
  {
   "cell_type": "code",
   "execution_count": 69,
   "metadata": {},
   "outputs": [
    {
     "data": {
      "text/plain": [
       "'\\nSome good references for better understanding:\\n- https://towardsdatascience.com/data-wrangling-with-pandas-5b0be151df4e\\n- https://seaborn.pydata.org/generated/seaborn.countplot.html\\n- https://pandas.pydata.org/Pandas_Cheat_Sheet.pdf\\n- https://elitedatascience.com/python-data-wrangling-tutorial\\n- https://pandas.pydata.org/pandas-docs/stable/reference/api/pandas.read_csv.html\\n- https://towardsdatascience.com/how-to-use-ggplot2-in-python-74ab8adec129\\n- https://www.geeksforgeeks.org/python-map-function/\\n- https://www.geeksforgeeks.org/python-pandas-dataframe-interpolate/\\n- https://www.geeksforgeeks.org/python-pandas-dataframe-isin/\\n- https://www.analyticsvidhya.com/blog/2016/12/introduction-to-feature-selection-methods-with-an-example-or-how-to-select-the-right-variables/\\n'"
      ]
     },
     "execution_count": 69,
     "metadata": {},
     "output_type": "execute_result"
    }
   ],
   "source": [
    "'''\n",
    "Some good references for better understanding:\n",
    "- https://towardsdatascience.com/data-wrangling-with-pandas-5b0be151df4e\n",
    "- https://seaborn.pydata.org/generated/seaborn.countplot.html\n",
    "- https://pandas.pydata.org/Pandas_Cheat_Sheet.pdf\n",
    "- https://elitedatascience.com/python-data-wrangling-tutorial\n",
    "- https://pandas.pydata.org/pandas-docs/stable/reference/api/pandas.read_csv.html\n",
    "- https://towardsdatascience.com/how-to-use-ggplot2-in-python-74ab8adec129\n",
    "- https://www.geeksforgeeks.org/python-map-function/\n",
    "- https://www.geeksforgeeks.org/python-pandas-dataframe-interpolate/\n",
    "- https://www.geeksforgeeks.org/python-pandas-dataframe-isin/\n",
    "- https://www.analyticsvidhya.com/blog/2016/12/introduction-to-feature-selection-methods-with-an-example-or-how-to-select-the-right-variables/\n",
    "'''"
   ]
  },
  {
   "cell_type": "markdown",
   "metadata": {},
   "source": [
    "## Step 2: Feature Transformation\n",
    "\n",
    "### Step 2.1: Apply Feature Scaling\n",
    "\n",
    "Before we apply dimensionality reduction techniques to the data, we need to perform feature scaling so that the principal component vectors are not influenced by the natural differences in scale for features. Starting from this part of the project, you'll want to keep an eye on the [API reference page for sklearn](http://scikit-learn.org/stable/modules/classes.html) to help you navigate to all of the classes and functions that you'll need. In this substep, you'll need to check the following:\n",
    "\n",
    "- sklearn requires that data not have missing values in order for its estimators to work properly. So, before applying the scaler to your data, make sure that you've cleaned the DataFrame of the remaining missing values. This can be as simple as just removing all data points with missing data, or applying an [Imputer](http://scikit-learn.org/stable/modules/generated/sklearn.preprocessing.Imputer.html) to replace all missing values. You might also try a more complicated procedure where you temporarily remove missing values in order to compute the scaling parameters before re-introducing those missing values and applying imputation. Think about how much missing data you have and what possible effects each approach might have on your analysis, and justify your decision in the discussion section below.\n",
    "- For the actual scaling function, a [StandardScaler](http://scikit-learn.org/stable/modules/generated/sklearn.preprocessing.StandardScaler.html) instance is suggested, scaling each feature to mean 0 and standard deviation 1.\n",
    "- For these classes, you can make use of the `.fit_transform()` method to both fit a procedure to the data as well as apply the transformation to the data at the same time. Don't forget to keep the fit sklearn objects handy, since you'll be applying them to the customer demographics data towards the end of the project."
   ]
  },
  {
   "cell_type": "code",
   "execution_count": 70,
   "metadata": {},
   "outputs": [
    {
     "data": {
      "text/plain": [
       "' already done in the previous lines '"
      ]
     },
     "execution_count": 70,
     "metadata": {},
     "output_type": "execute_result"
    }
   ],
   "source": [
    "# If you've not yet cleaned the dataset of all NaN values, then investigate and\n",
    "# do that now.\n",
    "\n",
    "''' already done in the previous lines '''"
   ]
  },
  {
   "cell_type": "code",
   "execution_count": 71,
   "metadata": {},
   "outputs": [],
   "source": [
    "# Apply feature scaling to the general population demographics data.\n",
    "# importing libs\n",
    "from sklearn.preprocessing import StandardScaler\n",
    "\n",
    "stdScaler = StandardScaler()\n",
    "df_scale = pd.DataFrame(stdScaler.fit_transform(df_lowNaN))\n",
    "df_scale.columns = df_lowNaN.columns"
   ]
  },
  {
   "cell_type": "code",
   "execution_count": 72,
   "metadata": {},
   "outputs": [
    {
     "data": {
      "text/html": [
       "<div>\n",
       "<style scoped>\n",
       "    .dataframe tbody tr th:only-of-type {\n",
       "        vertical-align: middle;\n",
       "    }\n",
       "\n",
       "    .dataframe tbody tr th {\n",
       "        vertical-align: top;\n",
       "    }\n",
       "\n",
       "    .dataframe thead th {\n",
       "        text-align: right;\n",
       "    }\n",
       "</style>\n",
       "<table border=\"1\" class=\"dataframe\">\n",
       "  <thead>\n",
       "    <tr style=\"text-align: right;\">\n",
       "      <th></th>\n",
       "      <th>ALTERSKATEGORIE_GROB</th>\n",
       "      <th>ANREDE_KZ</th>\n",
       "      <th>FINANZ_MINIMALIST</th>\n",
       "      <th>FINANZ_SPARER</th>\n",
       "      <th>FINANZ_VORSORGER</th>\n",
       "      <th>FINANZ_ANLEGER</th>\n",
       "      <th>FINANZ_UNAUFFAELLIGER</th>\n",
       "      <th>FINANZ_HAUSBAUER</th>\n",
       "      <th>GREEN_AVANTGARDE</th>\n",
       "      <th>HEALTH_TYP</th>\n",
       "      <th>...</th>\n",
       "      <th>PLZ8_ANTG4</th>\n",
       "      <th>PLZ8_HHZ</th>\n",
       "      <th>PLZ8_GBZ</th>\n",
       "      <th>ARBEIT</th>\n",
       "      <th>ORTSGR_KLS9</th>\n",
       "      <th>RELAT_AB</th>\n",
       "      <th>DECADE</th>\n",
       "      <th>MOVEMENT</th>\n",
       "      <th>WEALTH</th>\n",
       "      <th>LIFE_STAGE</th>\n",
       "    </tr>\n",
       "  </thead>\n",
       "  <tbody>\n",
       "    <tr>\n",
       "      <th>0</th>\n",
       "      <td>-1.76346</td>\n",
       "      <td>0.958422</td>\n",
       "      <td>-1.488785</td>\n",
       "      <td>1.540017</td>\n",
       "      <td>-1.044684</td>\n",
       "      <td>1.468541</td>\n",
       "      <td>0.981043</td>\n",
       "      <td>1.327209</td>\n",
       "      <td>-0.531136</td>\n",
       "      <td>1.065592</td>\n",
       "      <td>...</td>\n",
       "      <td>0.413629</td>\n",
       "      <td>1.428467</td>\n",
       "      <td>0.559152</td>\n",
       "      <td>-0.174198</td>\n",
       "      <td>-0.133255</td>\n",
       "      <td>0.678124</td>\n",
       "      <td>1.157782</td>\n",
       "      <td>-0.546181</td>\n",
       "      <td>1.178441</td>\n",
       "      <td>-1.258698</td>\n",
       "    </tr>\n",
       "    <tr>\n",
       "      <th>1</th>\n",
       "      <td>0.19940</td>\n",
       "      <td>0.958422</td>\n",
       "      <td>-1.488785</td>\n",
       "      <td>0.867244</td>\n",
       "      <td>-1.770775</td>\n",
       "      <td>-0.568811</td>\n",
       "      <td>0.263375</td>\n",
       "      <td>1.327209</td>\n",
       "      <td>1.882757</td>\n",
       "      <td>1.065592</td>\n",
       "      <td>...</td>\n",
       "      <td>-0.964435</td>\n",
       "      <td>0.398849</td>\n",
       "      <td>0.559152</td>\n",
       "      <td>-0.174198</td>\n",
       "      <td>-0.133255</td>\n",
       "      <td>-0.795034</td>\n",
       "      <td>1.157782</td>\n",
       "      <td>1.858969</td>\n",
       "      <td>-0.870639</td>\n",
       "      <td>0.759533</td>\n",
       "    </tr>\n",
       "    <tr>\n",
       "      <th>2</th>\n",
       "      <td>1.18083</td>\n",
       "      <td>0.958422</td>\n",
       "      <td>0.689233</td>\n",
       "      <td>-0.478302</td>\n",
       "      <td>1.133590</td>\n",
       "      <td>-0.568811</td>\n",
       "      <td>-1.171961</td>\n",
       "      <td>-0.818216</td>\n",
       "      <td>-0.531136</td>\n",
       "      <td>-0.273227</td>\n",
       "      <td>...</td>\n",
       "      <td>-0.964435</td>\n",
       "      <td>-0.630769</td>\n",
       "      <td>0.559152</td>\n",
       "      <td>-1.178561</td>\n",
       "      <td>-1.003080</td>\n",
       "      <td>-0.058455</td>\n",
       "      <td>-0.225029</td>\n",
       "      <td>-0.546181</td>\n",
       "      <td>-1.553666</td>\n",
       "      <td>-0.585954</td>\n",
       "    </tr>\n",
       "    <tr>\n",
       "      <th>3</th>\n",
       "      <td>0.19940</td>\n",
       "      <td>-1.043381</td>\n",
       "      <td>0.689233</td>\n",
       "      <td>0.194471</td>\n",
       "      <td>0.407498</td>\n",
       "      <td>-1.247929</td>\n",
       "      <td>0.263375</td>\n",
       "      <td>-0.818216</td>\n",
       "      <td>-0.531136</td>\n",
       "      <td>1.065592</td>\n",
       "      <td>...</td>\n",
       "      <td>0.413629</td>\n",
       "      <td>-0.630769</td>\n",
       "      <td>-0.342501</td>\n",
       "      <td>0.830166</td>\n",
       "      <td>0.301657</td>\n",
       "      <td>1.414702</td>\n",
       "      <td>-0.225029</td>\n",
       "      <td>-0.546181</td>\n",
       "      <td>0.495415</td>\n",
       "      <td>0.086789</td>\n",
       "    </tr>\n",
       "    <tr>\n",
       "      <th>4</th>\n",
       "      <td>-1.76346</td>\n",
       "      <td>0.958422</td>\n",
       "      <td>-0.036773</td>\n",
       "      <td>-1.151076</td>\n",
       "      <td>1.133590</td>\n",
       "      <td>-0.568811</td>\n",
       "      <td>-0.454293</td>\n",
       "      <td>1.327209</td>\n",
       "      <td>-0.531136</td>\n",
       "      <td>1.065592</td>\n",
       "      <td>...</td>\n",
       "      <td>0.413629</td>\n",
       "      <td>1.428467</td>\n",
       "      <td>1.460804</td>\n",
       "      <td>-1.178561</td>\n",
       "      <td>-1.003080</td>\n",
       "      <td>-0.058455</td>\n",
       "      <td>-1.607839</td>\n",
       "      <td>-0.546181</td>\n",
       "      <td>1.178441</td>\n",
       "      <td>0.759533</td>\n",
       "    </tr>\n",
       "  </tbody>\n",
       "</table>\n",
       "<p>5 rows × 65 columns</p>\n",
       "</div>"
      ],
      "text/plain": [
       "   ALTERSKATEGORIE_GROB  ANREDE_KZ  FINANZ_MINIMALIST  FINANZ_SPARER  \\\n",
       "0              -1.76346   0.958422          -1.488785       1.540017   \n",
       "1               0.19940   0.958422          -1.488785       0.867244   \n",
       "2               1.18083   0.958422           0.689233      -0.478302   \n",
       "3               0.19940  -1.043381           0.689233       0.194471   \n",
       "4              -1.76346   0.958422          -0.036773      -1.151076   \n",
       "\n",
       "   FINANZ_VORSORGER  FINANZ_ANLEGER  FINANZ_UNAUFFAELLIGER  FINANZ_HAUSBAUER  \\\n",
       "0         -1.044684        1.468541               0.981043          1.327209   \n",
       "1         -1.770775       -0.568811               0.263375          1.327209   \n",
       "2          1.133590       -0.568811              -1.171961         -0.818216   \n",
       "3          0.407498       -1.247929               0.263375         -0.818216   \n",
       "4          1.133590       -0.568811              -0.454293          1.327209   \n",
       "\n",
       "   GREEN_AVANTGARDE  HEALTH_TYP     ...      PLZ8_ANTG4  PLZ8_HHZ  PLZ8_GBZ  \\\n",
       "0         -0.531136    1.065592     ...        0.413629  1.428467  0.559152   \n",
       "1          1.882757    1.065592     ...       -0.964435  0.398849  0.559152   \n",
       "2         -0.531136   -0.273227     ...       -0.964435 -0.630769  0.559152   \n",
       "3         -0.531136    1.065592     ...        0.413629 -0.630769 -0.342501   \n",
       "4         -0.531136    1.065592     ...        0.413629  1.428467  1.460804   \n",
       "\n",
       "     ARBEIT  ORTSGR_KLS9  RELAT_AB    DECADE  MOVEMENT    WEALTH  LIFE_STAGE  \n",
       "0 -0.174198    -0.133255  0.678124  1.157782 -0.546181  1.178441   -1.258698  \n",
       "1 -0.174198    -0.133255 -0.795034  1.157782  1.858969 -0.870639    0.759533  \n",
       "2 -1.178561    -1.003080 -0.058455 -0.225029 -0.546181 -1.553666   -0.585954  \n",
       "3  0.830166     0.301657  1.414702 -0.225029 -0.546181  0.495415    0.086789  \n",
       "4 -1.178561    -1.003080 -0.058455 -1.607839 -0.546181  1.178441    0.759533  \n",
       "\n",
       "[5 rows x 65 columns]"
      ]
     },
     "execution_count": 72,
     "metadata": {},
     "output_type": "execute_result"
    }
   ],
   "source": [
    "df_scale.head()"
   ]
  },
  {
   "cell_type": "markdown",
   "metadata": {},
   "source": [
    "### Discussion 2.1: Apply Feature Scaling\n",
    "\n",
    "- The data is clean from any NaN value in section1.2\n",
    "- Applied StandardScaler on data saved in df_scale to transform data with a mean value 0 and standard deviation of 1"
   ]
  },
  {
   "cell_type": "markdown",
   "metadata": {},
   "source": [
    "### Step 2.2: Perform Dimensionality Reduction\n",
    "\n",
    "On your scaled data, you are now ready to apply dimensionality reduction techniques.\n",
    "\n",
    "- Use sklearn's [PCA](http://scikit-learn.org/stable/modules/generated/sklearn.decomposition.PCA.html) class to apply principal component analysis on the data, thus finding the vectors of maximal variance in the data. To start, you should not set any parameters (so all components are computed) or set a number of components that is at least half the number of features (so there's enough features to see the general trend in variability).\n",
    "- Check out the ratio of variance explained by each principal component as well as the cumulative variance explained. Try plotting the cumulative or sequential values using matplotlib's [`plot()`](https://matplotlib.org/api/_as_gen/matplotlib.pyplot.plot.html) function. Based on what you find, select a value for the number of transformed features you'll retain for the clustering part of the project.\n",
    "- Once you've made a choice for the number of components to keep, make sure you re-fit a PCA instance to perform the decided-on transformation."
   ]
  },
  {
   "cell_type": "code",
   "execution_count": 73,
   "metadata": {},
   "outputs": [
    {
     "name": "stdout",
     "output_type": "stream",
     "text": [
      "65\n"
     ]
    }
   ],
   "source": [
    "# Apply PCA to the data.\n",
    "from sklearn.decomposition import PCA\n",
    "\n",
    "pca = PCA()\n",
    "df_pca = pca.fit_transform(df_scale)\n",
    "\n",
    "n_components = len(pca.explained_variance_ratio_)\n",
    "print(n_components)"
   ]
  },
  {
   "cell_type": "code",
   "execution_count": 74,
   "metadata": {},
   "outputs": [],
   "source": [
    "values = pca.explained_variance_ratio_"
   ]
  },
  {
   "cell_type": "code",
   "execution_count": 75,
   "metadata": {
    "scrolled": true
   },
   "outputs": [
    {
     "data": {
      "image/png": "[encoded data removed]",
      "text/plain": [
       "<matplotlib.figure.Figure at 0x7f153e96e208>"
      ]
     },
     "metadata": {},
     "output_type": "display_data"
    }
   ],
   "source": [
    "# Investigate the variance accounted for by each principal component.\n",
    "def plot_pca(pca,n_components,values):\n",
    "    index = np.arange(n_components)\n",
    "    plt.figure(figsize=(10,5))\n",
    "    ax = plt.subplot(111) # 1x1 fisrt subplot\n",
    "    \n",
    "    cum_values = np.cumsum(values)\n",
    "    ax.bar(index, values)\n",
    "    ax.plot(index, cum_values)\n",
    " \n",
    "    ax.xaxis.set_tick_params(width=0)\n",
    "    ax.yaxis.set_tick_params(width=2, length=10)\n",
    " \n",
    "    ax.set_xlabel(\"Principal Component Analysis (PCA)\")\n",
    "    ax.set_ylabel(\"Variance\")\n",
    "    plt.title('Explained Variance/PCA')\n",
    "    \n",
    "plot_pca(df_pca,65,values)"
   ]
  },
  {
   "cell_type": "code",
   "execution_count": 76,
   "metadata": {},
   "outputs": [],
   "source": [
    "# Re-apply PCA to the data while selecting for number of components to retain.\n",
    "pca_retain = PCA(n_components=40)\n",
    "df_retain = pca_retain.fit_transform(df_pca)"
   ]
  },
  {
   "cell_type": "markdown",
   "metadata": {},
   "source": [
    "### Discussion 2.2: Perform Dimensionality Reduction\n",
    "\n",
    "Dimensionality Reduction is considered an important process to shrink our data\n",
    "- Applying PCA (Principle Component Analysis) to get the most amount of variability of the dataset\n",
    "- From the plot (Varience/Cumulative), we could estimate the **40** is a good number for the components to retrain, since after it, the curve starts to be constant (small changes occurs). \n"
   ]
  },
  {
   "cell_type": "markdown",
   "metadata": {},
   "source": [
    "### Step 2.3: Interpret Principal Components\n",
    "\n",
    "Now that we have our transformed principal components, it's a nice idea to check out the weight of each variable on the first few components to see if they can be interpreted in some fashion.\n",
    "\n",
    "As a reminder, each principal component is a unit vector that points in the direction of highest variance (after accounting for the variance captured by earlier principal components). The further a weight is from zero, the more the principal component is in the direction of the corresponding feature. If two features have large weights of the same sign (both positive or both negative), then increases in one tend expect to be associated with increases in the other. To contrast, features with different signs can be expected to show a negative correlation: increases in one variable should result in a decrease in the other.\n",
    "\n",
    "- To investigate the features, you should map each weight to their corresponding feature name, then sort the features according to weight. The most interesting features for each principal component, then, will be those at the beginning and end of the sorted list. Use the data dictionary document to help you understand these most prominent features, their relationships, and what a positive or negative value on the principal component might indicate.\n",
    "- You should investigate and interpret feature associations from the first three principal components in this substep. To help facilitate this, you should write a function that you can call at any time to print the sorted list of feature weights, for the *i*-th principal component. This might come in handy in the next step of the project, when you interpret the tendencies of the discovered clusters."
   ]
  },
  {
   "cell_type": "code",
   "execution_count": 77,
   "metadata": {
    "scrolled": true
   },
   "outputs": [
    {
     "name": "stdout",
     "output_type": "stream",
     "text": [
      "[('ANREDE_KZ', 1.0000000000000004),\n",
      " ('MOBI_REGIO', 2.6759856384164429e-09),\n",
      " ('BALLRAUM', 2.542391055410221e-09),\n",
      " ('GEBAEUDETYP_RASTER', 2.0640575786480614e-09),\n",
      " ('KKK', 1.7481769655482688e-09),\n",
      " ('KBA05_GBZ', 1.4273055482416516e-09),\n",
      " ('KBA05_ANTG2', 1.3655450259016308e-09),\n",
      " ('KBA05_ANTG4', 1.1091643082212781e-09),\n",
      " ('WOHNLAGE', 9.7169539649412158e-10),\n",
      " ('PLZ8_ANTG4', 6.74867353137164e-10),\n",
      " ('PLZ8_HHZ', 6.5616261130160693e-10),\n",
      " ('PLZ8_ANTG3', 3.0643068426840724e-10),\n",
      " ('KBA05_ANTG1', 3.0101798087302152e-10),\n",
      " ('ANZ_PERSONEN', 2.8118297610760298e-10),\n",
      " ('ANZ_HAUSHALTE_AKTIV', 2.792374347453019e-10),\n",
      " ('EWDICHTE', 2.7202341471547259e-10),\n",
      " ('ANZ_TITEL', 2.1390727793907118e-10),\n",
      " ('RELAT_AB', 1.6936682204511039e-10),\n",
      " ('VERS_TYP', 9.3651108075007808e-11),\n",
      " ('SOHO_KZ', 8.0552930589436879e-11),\n",
      " ('ORTSGR_KLS9', 7.4673047300977363e-11),\n",
      " ('MIN_GEBAEUDEJAHR', 5.5688230639468913e-11),\n",
      " ('SEMIO_ERL', 4.2329824248146978e-11),\n",
      " ('SEMIO_DOM', 2.3045673009954744e-11),\n",
      " ('SEMIO_SOZ', 1.0710124136454068e-11),\n",
      " ('SEMIO_LUST', 8.2042526191470992e-12),\n",
      " ('HEALTH_TYP', 7.8416319640198736e-12),\n",
      " ('SEMIO_FAM', 4.43239354234837e-12),\n",
      " ('SEMIO_VERT', 3.6291711330556735e-12),\n",
      " ('SEMIO_MAT', 3.5879503159058334e-12),\n",
      " ('MOVEMENT', 1.5319544061464333e-12),\n",
      " ('WEALTH', 1.467955589844762e-12),\n",
      " ('FINANZ_ANLEGER', 8.3799395374228869e-13),\n",
      " ('FINANZ_SPARER', 3.0864200084579352e-13),\n",
      " ('FINANZ_UNAUFFAELLIGER', 2.1558250586713353e-13),\n",
      " ('RETOURTYP_BK_S', 4.0386283270776858e-14),\n",
      " ('LIFE_STAGE', -3.5943895704736531e-15),\n",
      " ('FINANZ_VORSORGER', -1.1436615543480855e-12),\n",
      " ('FINANZ_HAUSBAUER', -1.3053095884998372e-12),\n",
      " ('SEMIO_KULT', -1.5027409517267127e-12),\n",
      " ('SEMIO_REL', -1.6385648789495849e-12),\n",
      " ('ALTERSKATEGORIE_GROB', -2.7570029592638434e-12),\n",
      " ('FINANZ_MINIMALIST', -2.9997115902347105e-12),\n",
      " ('GREEN_AVANTGARDE', -3.422218570352665e-12),\n",
      " ('SEMIO_KRIT', -8.3992700912349116e-12),\n",
      " ('SEMIO_RAT', -2.4019468114628422e-11),\n",
      " ('SEMIO_KAEM', -4.2711410784409875e-11),\n",
      " ('SEMIO_PFLICHT', -4.4633788679813676e-11),\n",
      " ('PLZ8_GBZ', -5.1768279449831029e-11),\n",
      " ('DECADE', -5.4800386501531351e-11),\n",
      " ('HH_EINKOMMEN_SCORE', -6.4016678116760832e-11),\n",
      " ('W_KEIT_KIND_HH', -9.4789148915994299e-11),\n",
      " ('SEMIO_TRADV', -1.1559448393992578e-10),\n",
      " ('WOHNDAUER_2008', -2.8771951607480884e-10),\n",
      " ('KONSUMNAEHE', -3.8874389753048392e-10),\n",
      " ('INNENSTADT', -3.9252872873777214e-10),\n",
      " ('ARBEIT', -3.9538426687912492e-10),\n",
      " ('ANZ_HH_TITEL', -4.2767457972781665e-10),\n",
      " ('KBA13_ANZAHL_PKW', -6.0046591835882953e-10),\n",
      " ('OST_WEST_KZ', -6.9539417331295615e-10),\n",
      " ('KBA05_ANTG3', -9.0109483588486071e-10),\n",
      " ('PLZ8_ANTG1', -2.6172994821896213e-09),\n",
      " ('PLZ8_ANTG2', -2.6688423083294945e-09),\n",
      " ('ONLINE_AFFINITAET', -2.8033176955182017e-09),\n",
      " ('REGIOTYP', -3.2647577001557894e-09)]\n"
     ]
    }
   ],
   "source": [
    "import operator\n",
    "import pprint\n",
    "\n",
    "def pca_weights(pca, i):\n",
    "    weight_map = {}\n",
    "    for counter, feature in enumerate(df_scale.columns):\n",
    "        weight_map[feature] = pca.components_[i][counter]\n",
    "    \n",
    "    sorted_weights = sorted(weight_map.items(), key=operator.itemgetter(1), reverse=True)\n",
    "    \n",
    "    return sorted_weights\n",
    "\n",
    "weights = pca_weights(pca_retain,1)\n",
    "pprint.pprint(weights)"
   ]
  },
  {
   "cell_type": "code",
   "execution_count": 78,
   "metadata": {},
   "outputs": [],
   "source": [
    "# Map weights for the first principal component to corresponding feature names\n",
    "# and then print the linked values, sorted by weight.\n",
    "# HINT: Try defining a function here or in a new cell that you can reuse in the\n",
    "# other cells.\n",
    "# Map weights for the second principal component to corresponding feature names\n",
    "# and then print the linked values, sorted by weight.\n",
    "# Map weights for the third principal component to corresponding feature names\n",
    "# and then print the linked values, sorted by weight."
   ]
  },
  {
   "cell_type": "code",
   "execution_count": 78,
   "metadata": {
    "scrolled": true
   },
   "outputs": [
    {
     "data": {
      "text/plain": [
       "MOBI_REGIO              -0.242167\n",
       "PLZ8_ANTG1              -0.226872\n",
       "KBA05_ANTG1             -0.225012\n",
       "KBA05_GBZ               -0.217794\n",
       "FINANZ_MINIMALIST       -0.215611\n",
       "KONSUMNAEHE             -0.169970\n",
       "PLZ8_GBZ                -0.167817\n",
       "INNENSTADT              -0.167581\n",
       "BALLRAUM                -0.130102\n",
       "LIFE_STAGE              -0.123372\n",
       "GEBAEUDETYP_RASTER      -0.117422\n",
       "ALTERSKATEGORIE_GROB    -0.111735\n",
       "FINANZ_VORSORGER        -0.106672\n",
       "GREEN_AVANTGARDE        -0.105925\n",
       "MOVEMENT                -0.103649\n",
       "WOHNLAGE                -0.090153\n",
       "ANZ_PERSONEN            -0.079365\n",
       "KBA13_ANZAHL_PKW        -0.078660\n",
       "SEMIO_ERL               -0.070423\n",
       "SEMIO_LUST              -0.067682\n",
       "MIN_GEBAEUDEJAHR        -0.061444\n",
       "WOHNDAUER_2008          -0.058928\n",
       "OST_WEST_KZ             -0.053054\n",
       "ONLINE_AFFINITAET       -0.047867\n",
       "SEMIO_VERT              -0.040443\n",
       "RETOURTYP_BK_S          -0.013775\n",
       "ANZ_TITEL               -0.003883\n",
       "SOHO_KZ                 -0.001983\n",
       "SEMIO_KRIT               0.006482\n",
       "ANREDE_KZ                0.008705\n",
       "                           ...   \n",
       "W_KEIT_KIND_HH           0.038581\n",
       "SEMIO_SOZ                0.040650\n",
       "KKK                      0.041413\n",
       "SEMIO_KAEM               0.041975\n",
       "PLZ8_HHZ                 0.043019\n",
       "FINANZ_ANLEGER           0.061024\n",
       "SEMIO_KULT               0.066489\n",
       "FINANZ_UNAUFFAELLIGER    0.068277\n",
       "REGIOTYP                 0.071072\n",
       "SEMIO_FAM                0.072957\n",
       "SEMIO_MAT                0.074139\n",
       "SEMIO_TRADV              0.081759\n",
       "SEMIO_RAT                0.088853\n",
       "DECADE                   0.093583\n",
       "SEMIO_REL                0.104846\n",
       "SEMIO_PFLICHT            0.107878\n",
       "KBA05_ANTG3              0.135605\n",
       "ANZ_HAUSHALTE_AKTIV      0.136038\n",
       "RELAT_AB                 0.137947\n",
       "FINANZ_SPARER            0.138585\n",
       "ARBEIT                   0.146376\n",
       "KBA05_ANTG4              0.153352\n",
       "PLZ8_ANTG2               0.156258\n",
       "FINANZ_HAUSBAUER         0.164091\n",
       "EWDICHTE                 0.200266\n",
       "HH_EINKOMMEN_SCORE       0.202349\n",
       "ORTSGR_KLS9              0.202499\n",
       "WEALTH                   0.206803\n",
       "PLZ8_ANTG4               0.221042\n",
       "PLZ8_ANTG3               0.228572\n",
       "Name: 0, Length: 65, dtype: float64"
      ]
     },
     "execution_count": 78,
     "metadata": {},
     "output_type": "execute_result"
    }
   ],
   "source": [
    "feature_select = pd.DataFrame(pca.components_,columns=df_scale.columns).T\n",
    "feature_select[0].sort_values()"
   ]
  },
  {
   "cell_type": "code",
   "execution_count": 79,
   "metadata": {
    "scrolled": true
   },
   "outputs": [
    {
     "data": {
      "text/plain": [
       "SEMIO_REL               -0.258143\n",
       "DECADE                  -0.251698\n",
       "FINANZ_SPARER           -0.239735\n",
       "SEMIO_TRADV             -0.233207\n",
       "SEMIO_PFLICHT           -0.231935\n",
       "FINANZ_UNAUFFAELLIGER   -0.228271\n",
       "SEMIO_KULT              -0.221498\n",
       "FINANZ_ANLEGER          -0.208097\n",
       "SEMIO_FAM               -0.185111\n",
       "SEMIO_RAT               -0.173576\n",
       "SEMIO_MAT               -0.164366\n",
       "ONLINE_AFFINITAET       -0.162003\n",
       "SEMIO_SOZ               -0.103488\n",
       "PLZ8_ANTG1              -0.082373\n",
       "KBA05_GBZ               -0.080305\n",
       "MOBI_REGIO              -0.079942\n",
       "KBA05_ANTG1             -0.070070\n",
       "INNENSTADT              -0.069941\n",
       "SEMIO_VERT              -0.067400\n",
       "PLZ8_GBZ                -0.065149\n",
       "KONSUMNAEHE             -0.063806\n",
       "ANZ_PERSONEN            -0.058377\n",
       "HEALTH_TYP              -0.058355\n",
       "BALLRAUM                -0.057722\n",
       "WOHNLAGE                -0.056164\n",
       "MIN_GEBAEUDEJAHR        -0.046640\n",
       "GEBAEUDETYP_RASTER      -0.038750\n",
       "KBA13_ANZAHL_PKW        -0.032643\n",
       "OST_WEST_KZ             -0.022375\n",
       "KBA05_ANTG2             -0.009442\n",
       "                           ...   \n",
       "ANZ_TITEL                0.007430\n",
       "PLZ8_HHZ                 0.012606\n",
       "REGIOTYP                 0.017922\n",
       "ANZ_HH_TITEL             0.029655\n",
       "VERS_TYP                 0.032224\n",
       "KBA05_ANTG3              0.038296\n",
       "HH_EINKOMMEN_SCORE       0.045357\n",
       "ANZ_HAUSHALTE_AKTIV      0.056773\n",
       "PLZ8_ANTG2               0.059843\n",
       "RELAT_AB                 0.060908\n",
       "WOHNDAUER_2008           0.061372\n",
       "ARBEIT                   0.063026\n",
       "KBA05_ANTG4              0.063182\n",
       "WEALTH                   0.065204\n",
       "SEMIO_DOM                0.069921\n",
       "FINANZ_MINIMALIST        0.074672\n",
       "PLZ8_ANTG4               0.081576\n",
       "PLZ8_ANTG3               0.085928\n",
       "ORTSGR_KLS9              0.086304\n",
       "EWDICHTE                 0.087373\n",
       "ANREDE_KZ                0.089271\n",
       "FINANZ_HAUSBAUER         0.109585\n",
       "SEMIO_KAEM               0.110606\n",
       "W_KEIT_KIND_HH           0.115033\n",
       "SEMIO_KRIT               0.115816\n",
       "RETOURTYP_BK_S           0.164618\n",
       "SEMIO_LUST               0.184672\n",
       "SEMIO_ERL                0.231962\n",
       "FINANZ_VORSORGER         0.235646\n",
       "ALTERSKATEGORIE_GROB     0.262649\n",
       "Name: 1, Length: 65, dtype: float64"
      ]
     },
     "execution_count": 79,
     "metadata": {},
     "output_type": "execute_result"
    }
   ],
   "source": [
    "feature_select = pd.DataFrame(pca.components_,columns=df_scale.columns).T\n",
    "feature_select[1].sort_values()"
   ]
  },
  {
   "cell_type": "code",
   "execution_count": 80,
   "metadata": {
    "scrolled": true
   },
   "outputs": [
    {
     "data": {
      "text/plain": [
       "ANREDE_KZ               -0.369118\n",
       "SEMIO_KAEM              -0.337296\n",
       "SEMIO_DOM               -0.313063\n",
       "SEMIO_KRIT              -0.274307\n",
       "SEMIO_RAT               -0.217110\n",
       "FINANZ_ANLEGER          -0.189520\n",
       "SEMIO_ERL               -0.175559\n",
       "DECADE                  -0.106251\n",
       "FINANZ_SPARER           -0.105605\n",
       "FINANZ_UNAUFFAELLIGER   -0.097872\n",
       "SEMIO_PFLICHT           -0.078822\n",
       "SEMIO_TRADV             -0.078660\n",
       "ONLINE_AFFINITAET       -0.052971\n",
       "FINANZ_HAUSBAUER        -0.045980\n",
       "PLZ8_ANTG1              -0.044592\n",
       "INNENSTADT              -0.043324\n",
       "KONSUMNAEHE             -0.037424\n",
       "PLZ8_GBZ                -0.037070\n",
       "BALLRAUM                -0.035600\n",
       "GEBAEUDETYP_RASTER      -0.029351\n",
       "MOBI_REGIO              -0.027554\n",
       "KBA05_GBZ               -0.025087\n",
       "WOHNLAGE                -0.024413\n",
       "HH_EINKOMMEN_SCORE      -0.022663\n",
       "KBA13_ANZAHL_PKW        -0.022458\n",
       "KBA05_ANTG1             -0.021071\n",
       "HEALTH_TYP              -0.019810\n",
       "MIN_GEBAEUDEJAHR        -0.017240\n",
       "KKK                     -0.015316\n",
       "OST_WEST_KZ             -0.013598\n",
       "                           ...   \n",
       "PLZ8_HHZ                 0.004836\n",
       "KBA05_ANTG3              0.006918\n",
       "ANZ_TITEL                0.009978\n",
       "ANZ_HH_TITEL             0.012992\n",
       "VERS_TYP                 0.014750\n",
       "ANZ_HAUSHALTE_AKTIV      0.023872\n",
       "WEALTH                   0.024840\n",
       "KBA05_ANTG4              0.025807\n",
       "PLZ8_ANTG2               0.030124\n",
       "RELAT_AB                 0.031687\n",
       "WOHNDAUER_2008           0.032993\n",
       "ARBEIT                   0.034446\n",
       "PLZ8_ANTG3               0.044476\n",
       "PLZ8_ANTG4               0.044583\n",
       "EWDICHTE                 0.047310\n",
       "ORTSGR_KLS9              0.048011\n",
       "MOVEMENT                 0.049287\n",
       "GREEN_AVANTGARDE         0.051511\n",
       "SEMIO_MAT                0.054680\n",
       "SEMIO_LUST               0.064264\n",
       "SEMIO_REL                0.070394\n",
       "ALTERSKATEGORIE_GROB     0.078507\n",
       "W_KEIT_KIND_HH           0.088179\n",
       "FINANZ_VORSORGER         0.100324\n",
       "RETOURTYP_BK_S           0.108977\n",
       "FINANZ_MINIMALIST        0.157661\n",
       "SEMIO_KULT               0.234216\n",
       "SEMIO_FAM                0.250083\n",
       "SEMIO_SOZ                0.263427\n",
       "SEMIO_VERT               0.346607\n",
       "Name: 2, Length: 65, dtype: float64"
      ]
     },
     "execution_count": 80,
     "metadata": {},
     "output_type": "execute_result"
    }
   ],
   "source": [
    "feature_select = pd.DataFrame(pca.components_,columns=df_scale.columns).T\n",
    "feature_select[2].sort_values()"
   ]
  },
  {
   "cell_type": "code",
   "execution_count": 82,
   "metadata": {},
   "outputs": [
    {
     "data": {
      "text/plain": [
       "'\\nSome good references:\\n- https://www.geeksforgeeks.org/enumerate-in-python/\\n- https://pandas.pydata.org/pandas-docs/version/0.22.0/generated/pandas.DataFrame.reset_index.html\\n- https://docs.scipy.org/doc/numpy/reference/generated/numpy.concatenate.html\\n- https://pandas.pydata.org/pandas-docs/stable/user_guide/style.html\\n'"
      ]
     },
     "execution_count": 82,
     "metadata": {},
     "output_type": "execute_result"
    }
   ],
   "source": [
    "'''\n",
    "Some good references:\n",
    "- https://www.geeksforgeeks.org/enumerate-in-python/\n",
    "- https://pandas.pydata.org/pandas-docs/version/0.22.0/generated/pandas.DataFrame.reset_index.html\n",
    "- https://docs.scipy.org/doc/numpy/reference/generated/numpy.concatenate.html\n",
    "- https://pandas.pydata.org/pandas-docs/stable/user_guide/style.html\n",
    "'''"
   ]
  },
  {
   "cell_type": "markdown",
   "metadata": {},
   "source": [
    "### Discussion 2.3: Interpret Principal Components\n",
    "- First Component: features such as Movement patterns, Building Type are negatively correlated, however, other features as Number of 6-10 family houses in the PLZ8 region and Likelihood of children in household are positively correlated.\n",
    "- Second Component: Personality typology (especially :religious,..) is negatively correlated, however, we can find estimated age getting positive correlation\n",
    "- Third Component: Dreamful typology got highest positive correlation and the gender got the negative one."
   ]
  },
  {
   "cell_type": "markdown",
   "metadata": {},
   "source": [
    "## Step 3: Clustering\n",
    "\n",
    "### Step 3.1: Apply Clustering to General Population\n",
    "\n",
    "You've assessed and cleaned the demographics data, then scaled and transformed them. Now, it's time to see how the data clusters in the principal components space. In this substep, you will apply k-means clustering to the dataset and use the average within-cluster distances from each point to their assigned cluster's centroid to decide on a number of clusters to keep.\n",
    "\n",
    "- Use sklearn's [KMeans](http://scikit-learn.org/stable/modules/generated/sklearn.cluster.KMeans.html#sklearn.cluster.KMeans) class to perform k-means clustering on the PCA-transformed data.\n",
    "- Then, compute the average difference from each point to its assigned cluster's center. **Hint**: The KMeans object's `.score()` method might be useful here, but note that in sklearn, scores tend to be defined so that larger is better. Try applying it to a small, toy dataset, or use an internet search to help your understanding.\n",
    "- Perform the above two steps for a number of different cluster counts. You can then see how the average distance decreases with an increasing number of clusters. However, each additional cluster provides a smaller net benefit. Use this fact to select a final number of clusters in which to group the data. **Warning**: because of the large size of the dataset, it can take a long time for the algorithm to resolve. The more clusters to fit, the longer the algorithm will take. You should test for cluster counts through at least 10 clusters to get the full picture, but you shouldn't need to test for a number of clusters above about 30.\n",
    "- Once you've selected a final number of clusters to use, re-fit a KMeans instance to perform the clustering operation. Make sure that you also obtain the cluster assignments for the general demographics data, since you'll be using them in the final Step 3.3."
   ]
  },
  {
   "cell_type": "code",
   "execution_count": 81,
   "metadata": {},
   "outputs": [],
   "source": [
    "# Over a number of different cluster counts...\n",
    "    # run k-means clustering on the data and...\n",
    "    # compute the average within-cluster distances.\n",
    "\n",
    "from sklearn.cluster import KMeans\n",
    "\n",
    "def get_kmeans(data, center):\n",
    "    \n",
    "    kmeans = KMeans(n_clusters = center)\n",
    "    model = kmeans.fit(data)\n",
    "    scores = np.abs(model.score(data))\n",
    "    return scores\n",
    "    "
   ]
  },
  {
   "cell_type": "code",
   "execution_count": null,
   "metadata": {
    "scrolled": true
   },
   "outputs": [],
   "source": [
    "scores = []\n",
    "centers = list(range(1,25,2))\n",
    "print(centers)\n",
    "\n",
    "for center in centers:\n",
    "    output = get_kmeans(df_retain,center)\n",
    "    print(output)\n",
    "    scores.append(output)\n",
    "print(scores)    "
   ]
  },
  {
   "cell_type": "code",
   "execution_count": 82,
   "metadata": {},
   "outputs": [],
   "source": [
    "# in case ~ to not repeat the last process (takes time)\n",
    "centers = list(range(1,25,2))\n",
    "scores=[47114929.997800186, 37542839.391035646, 34112800.406813428, 31752311.879460048, 30266477.537795015, 28951165.388485525, 28206799.109717578, 27352843.278914124, 27192665.843297206, 26140545.394511774, 25679975.600370068, 25323688.729474325]"
   ]
  },
  {
   "cell_type": "code",
   "execution_count": 83,
   "metadata": {},
   "outputs": [
    {
     "data": {
      "text/plain": [
       "[<matplotlib.lines.Line2D at 0x7f153e4e2a58>]"
      ]
     },
     "execution_count": 83,
     "metadata": {},
     "output_type": "execute_result"
    },
    {
     "data": {
      "image/png": "[encoded data removed]",
      "text/plain": [
       "<matplotlib.figure.Figure at 0x7f153e5da550>"
      ]
     },
     "metadata": {},
     "output_type": "display_data"
    }
   ],
   "source": [
    "# Investigate the change in within-cluster distance across number of clusters.\n",
    "# HINT: Use matplotlib's plot function to visualize this relationship.\n",
    "plt.plot(centers,scores,color='red')"
   ]
  },
  {
   "cell_type": "code",
   "execution_count": 84,
   "metadata": {},
   "outputs": [],
   "source": [
    "# Re-fit the k-means model with the selected number of clusters and obtain\n",
    "# cluster predictions for the general population demographics data.\n",
    "\n",
    "kmeans = KMeans(n_clusters = 10)\n",
    "result = kmeans.fit_predict(df_retain)"
   ]
  },
  {
   "cell_type": "markdown",
   "metadata": {},
   "source": [
    "### Discussion 3.1: Apply Clustering to General Population\n",
    "\n",
    "- Applying Kmeans to cluster the dataset\n",
    "- From the curve, we could deduce that **10** is a good point to choose for n_clusters since the curve starts to decrease from around 5 to 15\n"
   ]
  },
  {
   "cell_type": "markdown",
   "metadata": {},
   "source": [
    "### Step 3.2: Apply All Steps to the Customer Data\n",
    "\n",
    "Now that you have clusters and cluster centers for the general population, it's time to see how the customer data maps on to those clusters. Take care to not confuse this for re-fitting all of the models to the customer data. Instead, you're going to use the fits from the general population to clean, transform, and cluster the customer data. In the last step of the project, you will interpret how the general population fits apply to the customer data.\n",
    "\n",
    "- Don't forget when loading in the customers data, that it is semicolon (`;`) delimited.\n",
    "- Apply the same feature wrangling, selection, and engineering steps to the customer demographics using the `clean_data()` function you created earlier. (You can assume that the customer demographics data has similar meaning behind missing data patterns as the general demographics data.)\n",
    "- Use the sklearn objects from the general demographics data, and apply their transformations to the customers data. That is, you should not be using a `.fit()` or `.fit_transform()` method to re-fit the old objects, nor should you be creating new sklearn objects! Carry the data through the feature scaling, PCA, and clustering steps, obtaining cluster assignments for all of the data in the customer demographics data."
   ]
  },
  {
   "cell_type": "code",
   "execution_count": 225,
   "metadata": {},
   "outputs": [],
   "source": [
    "# Load in the customer demographics data.\n",
    "customers = pd.read_csv('Udacity_CUSTOMERS_Subset.csv',delimiter=';')"
   ]
  },
  {
   "cell_type": "code",
   "execution_count": 226,
   "metadata": {},
   "outputs": [
    {
     "data": {
      "text/plain": [
       "(191652, 85)"
      ]
     },
     "execution_count": 226,
     "metadata": {},
     "output_type": "execute_result"
    }
   ],
   "source": [
    "customers.shape"
   ]
  },
  {
   "cell_type": "code",
   "execution_count": 227,
   "metadata": {},
   "outputs": [
    {
     "name": "stdout",
     "output_type": "stream",
     "text": [
      "(191652, 85)\n",
      "DONE Converted into NaN\n",
      "removing col\n",
      "(191652, 79)\n",
      "DONE dropping col\n",
      "(133427, 79)\n",
      "DONE dropping row\n",
      "encoded categorical\n",
      "(133427, 66)\n",
      "DONE encoding OST_WEST_KZ\n",
      "eng mixture\n",
      "(133427, 70)\n",
      "DONE engineering Mixture\n",
      "DONE dropping Mix col\n",
      "Test Checked\n"
     ]
    }
   ],
   "source": [
    "customers_clean = clean_data(customers)"
   ]
  },
  {
   "cell_type": "code",
   "execution_count": 228,
   "metadata": {},
   "outputs": [
    {
     "data": {
      "text/plain": [
       "(133427, 67)"
      ]
     },
     "execution_count": 228,
     "metadata": {},
     "output_type": "execute_result"
    }
   ],
   "source": [
    "customers_clean.shape"
   ]
  },
  {
   "cell_type": "code",
   "execution_count": 229,
   "metadata": {},
   "outputs": [
    {
     "data": {
      "text/plain": [
       "Index(['ALTERSKATEGORIE_GROB', 'ANREDE_KZ', 'FINANZ_MINIMALIST',\n",
       "       'FINANZ_SPARER', 'FINANZ_VORSORGER', 'FINANZ_ANLEGER',\n",
       "       'FINANZ_UNAUFFAELLIGER', 'FINANZ_HAUSBAUER', 'GREEN_AVANTGARDE',\n",
       "       'HEALTH_TYP', 'PRAEGENDE_JUGENDJAHRE', 'RETOURTYP_BK_S', 'SEMIO_SOZ',\n",
       "       'SEMIO_FAM', 'SEMIO_REL', 'SEMIO_MAT', 'SEMIO_VERT', 'SEMIO_LUST',\n",
       "       'SEMIO_ERL', 'SEMIO_KULT', 'SEMIO_RAT', 'SEMIO_KRIT', 'SEMIO_DOM',\n",
       "       'SEMIO_KAEM', 'SEMIO_PFLICHT', 'SEMIO_TRADV', 'SOHO_KZ', 'VERS_TYP',\n",
       "       'ANZ_PERSONEN', 'ANZ_TITEL', 'HH_EINKOMMEN_SCORE', 'W_KEIT_KIND_HH',\n",
       "       'WOHNDAUER_2008', 'ANZ_HAUSHALTE_AKTIV', 'ANZ_HH_TITEL', 'KONSUMNAEHE',\n",
       "       'MIN_GEBAEUDEJAHR', 'OST_WEST_KZ', 'WOHNLAGE', 'CAMEO_INTL_2015',\n",
       "       'KBA05_ANTG1', 'KBA05_ANTG2', 'KBA05_ANTG3', 'KBA05_ANTG4', 'KBA05_GBZ',\n",
       "       'BALLRAUM', 'EWDICHTE', 'INNENSTADT', 'GEBAEUDETYP_RASTER', 'KKK',\n",
       "       'MOBI_REGIO', 'ONLINE_AFFINITAET', 'REGIOTYP', 'KBA13_ANZAHL_PKW',\n",
       "       'PLZ8_ANTG1', 'PLZ8_ANTG2', 'PLZ8_ANTG3', 'PLZ8_ANTG4', 'PLZ8_HHZ',\n",
       "       'PLZ8_GBZ', 'ARBEIT', 'ORTSGR_KLS9', 'RELAT_AB', 'DECADE', 'MOVEMENT',\n",
       "       'WEALTH', 'LIFE_STAGE'],\n",
       "      dtype='object')"
      ]
     },
     "execution_count": 229,
     "metadata": {},
     "output_type": "execute_result"
    }
   ],
   "source": [
    "customers_clean.columns"
   ]
  },
  {
   "cell_type": "code",
   "execution_count": 230,
   "metadata": {},
   "outputs": [],
   "source": [
    "customers_clean.drop(['PRAEGENDE_JUGENDJAHRE','CAMEO_INTL_2015'], axis=1,inplace=True)"
   ]
  },
  {
   "cell_type": "code",
   "execution_count": 231,
   "metadata": {},
   "outputs": [
    {
     "data": {
      "text/plain": [
       "(133427, 65)"
      ]
     },
     "execution_count": 231,
     "metadata": {},
     "output_type": "execute_result"
    }
   ],
   "source": [
    "customers_clean.shape"
   ]
  },
  {
   "cell_type": "code",
   "execution_count": 217,
   "metadata": {},
   "outputs": [
    {
     "data": {
      "text/plain": [
       "(133427, 65)"
      ]
     },
     "execution_count": 217,
     "metadata": {},
     "output_type": "execute_result"
    }
   ],
   "source": [
    "#customers_clean =customers_clean[~customers_clean.isin([np.nan,np.inf, -np.inf]).any(1)]\n",
    "#customers_clean.shape"
   ]
  },
  {
   "cell_type": "code",
   "execution_count": 232,
   "metadata": {},
   "outputs": [],
   "source": [
    "customers_clean_trans = pd.DataFrame(stdScaler.transform(customers_clean))\n",
    "customers_clean_trans.columns = customers_clean.columns\n",
    "#customers_clean[customers_clean.columns] = stdScaler.transform(customers_clean[customers_clean.columns].as_matrix())"
   ]
  },
  {
   "cell_type": "code",
   "execution_count": 233,
   "metadata": {},
   "outputs": [],
   "source": [
    "customers_pca = pca_retain.transform(customers_clean_trans)"
   ]
  },
  {
   "cell_type": "code",
   "execution_count": 234,
   "metadata": {},
   "outputs": [],
   "source": [
    "#kmeans = KMeans(n_clusters = 10)\n",
    "result_customer = kmeans.predict(customers_pca)"
   ]
  },
  {
   "cell_type": "code",
   "execution_count": null,
   "metadata": {},
   "outputs": [],
   "source": [
    "'''\n",
    "Reference:\n",
    "- https://datascience.stackexchange.com/questions/26886/valueerror-input-contains-nan-infinity-or-a-value-too-large-for-dtypefloat64\n",
    "- https://stackoverflow.com/questions/43675665/when-scale-the-data-why-the-train-dataset-use-fit-and-transform-but-the-te\n",
    "'''"
   ]
  },
  {
   "cell_type": "markdown",
   "metadata": {},
   "source": [
    "### Step 3.3: Compare Customer Data to Demographics Data\n",
    "\n",
    "At this point, you have clustered data based on demographics of the general population of Germany, and seen how the customer data for a mail-order sales company maps onto those demographic clusters. In this final substep, you will compare the two cluster distributions to see where the strongest customer base for the company is.\n",
    "\n",
    "Consider the proportion of persons in each cluster for the general population, and the proportions for the customers. If we think the company's customer base to be universal, then the cluster assignment proportions should be fairly similar between the two. If there are only particular segments of the population that are interested in the company's products, then we should see a mismatch from one to the other. If there is a higher proportion of persons in a cluster for the customer data compared to the general population (e.g. 5% of persons are assigned to a cluster for the general population, but 15% of the customer data is closest to that cluster's centroid) then that suggests the people in that cluster to be a target audience for the company. On the other hand, the proportion of the data in a cluster being larger in the general population than the customer data (e.g. only 2% of customers closest to a population centroid that captures 6% of the data) suggests that group of persons to be outside of the target demographics.\n",
    "\n",
    "Take a look at the following points in this step:\n",
    "\n",
    "- Compute the proportion of data points in each cluster for the general population and the customer data. Visualizations will be useful here: both for the individual dataset proportions, but also to visualize the ratios in cluster representation between groups. Seaborn's [`countplot()`](https://seaborn.pydata.org/generated/seaborn.countplot.html) or [`barplot()`](https://seaborn.pydata.org/generated/seaborn.barplot.html) function could be handy.\n",
    "  - Recall the analysis you performed in step 1.1.3 of the project, where you separated out certain data points from the dataset if they had more than a specified threshold of missing values. If you found that this group was qualitatively different from the main bulk of the data, you should treat this as an additional data cluster in this analysis. Make sure that you account for the number of data points in this subset, for both the general population and customer datasets, when making your computations!\n",
    "- Which cluster or clusters are overrepresented in the customer dataset compared to the general population? Select at least one such cluster and infer what kind of people might be represented by that cluster. Use the principal component interpretations from step 2.3 or look at additional components to help you make this inference. Alternatively, you can use the `.inverse_transform()` method of the PCA and StandardScaler objects to transform centroids back to the original data space and interpret the retrieved values directly.\n",
    "- Perform a similar investigation for the underrepresented clusters. Which cluster or clusters are underrepresented in the customer dataset compared to the general population, and what kinds of people are typified by these clusters?"
   ]
  },
  {
   "cell_type": "code",
   "execution_count": 235,
   "metadata": {},
   "outputs": [
    {
     "data": {
      "text/html": [
       "<div>\n",
       "<style scoped>\n",
       "    .dataframe tbody tr th:only-of-type {\n",
       "        vertical-align: middle;\n",
       "    }\n",
       "\n",
       "    .dataframe tbody tr th {\n",
       "        vertical-align: top;\n",
       "    }\n",
       "\n",
       "    .dataframe thead th {\n",
       "        text-align: right;\n",
       "    }\n",
       "</style>\n",
       "<table border=\"1\" class=\"dataframe\">\n",
       "  <thead>\n",
       "    <tr style=\"text-align: right;\">\n",
       "      <th></th>\n",
       "      <th>population_count</th>\n",
       "      <th>customer_count</th>\n",
       "    </tr>\n",
       "  </thead>\n",
       "  <tbody>\n",
       "    <tr>\n",
       "      <th>0</th>\n",
       "      <td>59225</td>\n",
       "      <td>389</td>\n",
       "    </tr>\n",
       "    <tr>\n",
       "      <th>1</th>\n",
       "      <td>67736</td>\n",
       "      <td>14301</td>\n",
       "    </tr>\n",
       "    <tr>\n",
       "      <th>2</th>\n",
       "      <td>96445</td>\n",
       "      <td>78742</td>\n",
       "    </tr>\n",
       "    <tr>\n",
       "      <th>3</th>\n",
       "      <td>83825</td>\n",
       "      <td>1271</td>\n",
       "    </tr>\n",
       "    <tr>\n",
       "      <th>4</th>\n",
       "      <td>86337</td>\n",
       "      <td>18923</td>\n",
       "    </tr>\n",
       "    <tr>\n",
       "      <th>5</th>\n",
       "      <td>57673</td>\n",
       "      <td>526</td>\n",
       "    </tr>\n",
       "    <tr>\n",
       "      <th>6</th>\n",
       "      <td>81446</td>\n",
       "      <td>4680</td>\n",
       "    </tr>\n",
       "    <tr>\n",
       "      <th>7</th>\n",
       "      <td>82186</td>\n",
       "      <td>2980</td>\n",
       "    </tr>\n",
       "    <tr>\n",
       "      <th>8</th>\n",
       "      <td>100232</td>\n",
       "      <td>10210</td>\n",
       "    </tr>\n",
       "    <tr>\n",
       "      <th>9</th>\n",
       "      <td>59638</td>\n",
       "      <td>1405</td>\n",
       "    </tr>\n",
       "  </tbody>\n",
       "</table>\n",
       "</div>"
      ],
      "text/plain": [
       "   population_count  customer_count\n",
       "0             59225             389\n",
       "1             67736           14301\n",
       "2             96445           78742\n",
       "3             83825            1271\n",
       "4             86337           18923\n",
       "5             57673             526\n",
       "6             81446            4680\n",
       "7             82186            2980\n",
       "8            100232           10210\n",
       "9             59638            1405"
      ]
     },
     "execution_count": 235,
     "metadata": {},
     "output_type": "execute_result"
    }
   ],
   "source": [
    "# Compare the proportion of data in each cluster for the customer data to the\n",
    "# proportion of data in each cluster for the general population.\n",
    "\n",
    "result_customer = pd.Series(result_customer)\n",
    "customer_dist = result_customer.value_counts().sort_index()\n",
    "result = pd.Series(result)\n",
    "population_dist = result.value_counts().sort_index()\n",
    "final_df = pd.DataFrame([population_dist,customer_dist]).T\n",
    "final_df.columns = ['population_count','customer_count']\n",
    "final_df"
   ]
  },
  {
   "cell_type": "code",
   "execution_count": 236,
   "metadata": {},
   "outputs": [
    {
     "data": {
      "image/png": "[encoded data removed]",
      "text/plain": [
       "<matplotlib.figure.Figure at 0x7f15402fa160>"
      ]
     },
     "metadata": {},
     "output_type": "display_data"
    }
   ],
   "source": [
    "fig = plt.figure(figsize=(15,5))\n",
    "ax1 = fig.add_subplot(1,2,1)\n",
    "sns.barplot(x=final_df.index,y='population_count', data = final_df)\n",
    "plt.title(\"Distribution of General Population\")\n",
    "ax2 = fig.add_subplot(1,2,2)\n",
    "sns.barplot(x=final_df.index,y='customer_count', data = final_df)\n",
    "plt.title(\"Distribution of Customer data\")\n",
    "plt.show()"
   ]
  },
  {
   "cell_type": "code",
   "execution_count": 239,
   "metadata": {},
   "outputs": [
    {
     "data": {
      "text/plain": [
       "0     4.360341\n",
       "8     0.429716\n",
       "3     0.317440\n",
       "9     0.143314\n",
       "37    0.138175\n",
       "dtype: float64"
      ]
     },
     "execution_count": 239,
     "metadata": {},
     "output_type": "execute_result"
    }
   ],
   "source": [
    "# What kinds of people are part of a cluster that is overrepresented in the\n",
    "# customer data compared to the general population?\n",
    "cc3 = kmeans.cluster_centers_[3]\n",
    "cc3 = pd.Series(cc3)\n",
    "cc3.sort_values(ascending=False, inplace=True)\n",
    "cc3.head()"
   ]
  },
  {
   "cell_type": "code",
   "execution_count": 240,
   "metadata": {
    "scrolled": true
   },
   "outputs": [
    {
     "data": {
      "text/plain": [
       "WOHNLAGE                -0.285069\n",
       "KKK                     -0.249554\n",
       "HH_EINKOMMEN_SCORE      -0.245049\n",
       "BALLRAUM                -0.219341\n",
       "INNENSTADT              -0.203188\n",
       "REGIOTYP                -0.190528\n",
       "KONSUMNAEHE             -0.130767\n",
       "WEALTH                  -0.129553\n",
       "FINANZ_ANLEGER          -0.116295\n",
       "FINANZ_HAUSBAUER        -0.109648\n",
       "W_KEIT_KIND_HH          -0.082936\n",
       "KBA05_ANTG3             -0.071451\n",
       "GEBAEUDETYP_RASTER      -0.063027\n",
       "KBA05_ANTG4             -0.047398\n",
       "ALTERSKATEGORIE_GROB    -0.045590\n",
       "ANZ_HAUSHALTE_AKTIV     -0.042772\n",
       "MIN_GEBAEUDEJAHR        -0.032117\n",
       "PLZ8_ANTG1              -0.030043\n",
       "SEMIO_KULT              -0.029984\n",
       "SEMIO_ERL               -0.025232\n",
       "SEMIO_FAM               -0.019758\n",
       "FINANZ_VORSORGER        -0.017318\n",
       "SEMIO_VERT              -0.013688\n",
       "SEMIO_LUST              -0.003979\n",
       "RETOURTYP_BK_S          -0.001913\n",
       "FINANZ_SPARER           -0.000642\n",
       "SEMIO_REL               -0.000598\n",
       "SEMIO_SOZ                0.001340\n",
       "SOHO_KZ                  0.002194\n",
       "HEALTH_TYP               0.007661\n",
       "                           ...   \n",
       "SEMIO_PFLICHT            0.020999\n",
       "ANZ_HH_TITEL             0.026278\n",
       "ANREDE_KZ                0.035135\n",
       "DECADE                   0.040282\n",
       "ANZ_TITEL                0.043548\n",
       "PLZ8_GBZ                 0.047733\n",
       "KBA13_ANZAHL_PKW         0.049931\n",
       "SEMIO_RAT                0.052072\n",
       "ARBEIT                   0.057969\n",
       "SEMIO_TRADV              0.059899\n",
       "KBA05_GBZ                0.062254\n",
       "PLZ8_ANTG4               0.062507\n",
       "FINANZ_MINIMALIST        0.064704\n",
       "LIFE_STAGE               0.065913\n",
       "MOBI_REGIO               0.073064\n",
       "SEMIO_KAEM               0.076602\n",
       "PLZ8_ANTG3               0.085901\n",
       "FINANZ_UNAUFFAELLIGER    0.086804\n",
       "ANZ_PERSONEN             0.094680\n",
       "RELAT_AB                 0.096699\n",
       "PLZ8_ANTG2               0.099944\n",
       "KBA05_ANTG1              0.104634\n",
       "OST_WEST_KZ              0.116003\n",
       "SEMIO_DOM                0.117704\n",
       "PLZ8_HHZ                 0.131442\n",
       "ONLINE_AFFINITAET        0.133833\n",
       "ORTSGR_KLS9              0.247313\n",
       "EWDICHTE                 0.253097\n",
       "MOVEMENT                 0.382527\n",
       "GREEN_AVANTGARDE         0.384275\n",
       "Name: 3, Length: 65, dtype: float64"
      ]
     },
     "execution_count": 240,
     "metadata": {},
     "output_type": "execute_result"
    }
   ],
   "source": [
    "feature_select[3].sort_values()"
   ]
  },
  {
   "cell_type": "code",
   "execution_count": 237,
   "metadata": {},
   "outputs": [
    {
     "data": {
      "text/plain": [
       "1     4.096539\n",
       "0     1.902935\n",
       "7     0.218440\n",
       "23    0.107569\n",
       "25    0.101810\n",
       "dtype: float64"
      ]
     },
     "execution_count": 237,
     "metadata": {},
     "output_type": "execute_result"
    }
   ],
   "source": [
    "cc8 = kmeans.cluster_centers_[8]\n",
    "cc8 = pd.Series(cc8)\n",
    "cc8.sort_values(ascending=False, inplace=True)\n",
    "cc8.head()"
   ]
  },
  {
   "cell_type": "code",
   "execution_count": 238,
   "metadata": {
    "scrolled": true
   },
   "outputs": [
    {
     "data": {
      "text/plain": [
       "VERS_TYP                -0.478379\n",
       "HEALTH_TYP              -0.432423\n",
       "OST_WEST_KZ             -0.138255\n",
       "DECADE                  -0.131043\n",
       "KBA05_ANTG2             -0.129353\n",
       "FINANZ_UNAUFFAELLIGER   -0.124792\n",
       "FINANZ_SPARER           -0.117050\n",
       "W_KEIT_KIND_HH          -0.102244\n",
       "SEMIO_KRIT              -0.099590\n",
       "SEMIO_SOZ               -0.075421\n",
       "PLZ8_ANTG2              -0.046118\n",
       "SEMIO_DOM               -0.044955\n",
       "ANZ_HH_TITEL            -0.042689\n",
       "INNENSTADT              -0.035629\n",
       "HH_EINKOMMEN_SCORE      -0.032823\n",
       "FINANZ_ANLEGER          -0.029970\n",
       "PLZ8_ANTG1              -0.022713\n",
       "KBA05_GBZ               -0.020643\n",
       "BALLRAUM                -0.017669\n",
       "KBA05_ANTG3             -0.012449\n",
       "WOHNLAGE                -0.012363\n",
       "ANZ_TITEL               -0.011456\n",
       "GREEN_AVANTGARDE        -0.006559\n",
       "MOVEMENT                -0.005946\n",
       "SEMIO_VERT               0.000256\n",
       "ALTERSKATEGORIE_GROB     0.002974\n",
       "SEMIO_FAM                0.007240\n",
       "SOHO_KZ                  0.009883\n",
       "ANZ_HAUSHALTE_AKTIV      0.011008\n",
       "MOBI_REGIO               0.011646\n",
       "                           ...   \n",
       "LIFE_STAGE               0.039184\n",
       "FINANZ_HAUSBAUER         0.040334\n",
       "ONLINE_AFFINITAET        0.041535\n",
       "SEMIO_ERL                0.045706\n",
       "PLZ8_ANTG4               0.047244\n",
       "ORTSGR_KLS9              0.052044\n",
       "SEMIO_KULT               0.056566\n",
       "RELAT_AB                 0.062708\n",
       "KBA05_ANTG4              0.063218\n",
       "KONSUMNAEHE              0.064167\n",
       "FINANZ_MINIMALIST        0.065389\n",
       "FINANZ_VORSORGER         0.072747\n",
       "SEMIO_KAEM               0.078548\n",
       "SEMIO_LUST               0.085157\n",
       "PLZ8_GBZ                 0.087161\n",
       "MIN_GEBAEUDEJAHR         0.092132\n",
       "ANREDE_KZ                0.092728\n",
       "SEMIO_PFLICHT            0.095067\n",
       "GEBAEUDETYP_RASTER       0.108648\n",
       "SEMIO_REL                0.113817\n",
       "SEMIO_TRADV              0.132486\n",
       "KBA13_ANZAHL_PKW         0.137245\n",
       "ARBEIT                   0.156134\n",
       "PLZ8_HHZ                 0.165382\n",
       "REGIOTYP                 0.181282\n",
       "KKK                      0.183985\n",
       "SEMIO_RAT                0.194683\n",
       "WOHNDAUER_2008           0.196051\n",
       "ANZ_PERSONEN             0.211389\n",
       "SEMIO_MAT                0.276250\n",
       "Name: 8, Length: 65, dtype: float64"
      ]
     },
     "execution_count": 238,
     "metadata": {},
     "output_type": "execute_result"
    }
   ],
   "source": [
    "feature_select[8].sort_values()"
   ]
  },
  {
   "cell_type": "code",
   "execution_count": 241,
   "metadata": {},
   "outputs": [
    {
     "data": {
      "text/plain": [
       "2     2.821738\n",
       "0     2.076760\n",
       "1     1.916838\n",
       "27    0.258190\n",
       "20    0.135227\n",
       "dtype: float64"
      ]
     },
     "execution_count": 241,
     "metadata": {},
     "output_type": "execute_result"
    }
   ],
   "source": [
    "# What kinds of people are part of a cluster that is underrepresented in the\n",
    "# customer data compared to the general population?\n",
    "cc2 = kmeans.cluster_centers_[2]\n",
    "cc2 = pd.Series(cc2)\n",
    "cc2.sort_values(ascending=False, inplace=True)\n",
    "cc2.head()\n"
   ]
  },
  {
   "cell_type": "code",
   "execution_count": 242,
   "metadata": {
    "scrolled": true
   },
   "outputs": [
    {
     "data": {
      "text/plain": [
       "ANREDE_KZ               -0.369118\n",
       "SEMIO_KAEM              -0.337296\n",
       "SEMIO_DOM               -0.313063\n",
       "SEMIO_KRIT              -0.274307\n",
       "SEMIO_RAT               -0.217110\n",
       "FINANZ_ANLEGER          -0.189520\n",
       "SEMIO_ERL               -0.175559\n",
       "DECADE                  -0.106251\n",
       "FINANZ_SPARER           -0.105605\n",
       "FINANZ_UNAUFFAELLIGER   -0.097872\n",
       "SEMIO_PFLICHT           -0.078822\n",
       "SEMIO_TRADV             -0.078660\n",
       "ONLINE_AFFINITAET       -0.052971\n",
       "FINANZ_HAUSBAUER        -0.045980\n",
       "PLZ8_ANTG1              -0.044592\n",
       "INNENSTADT              -0.043324\n",
       "KONSUMNAEHE             -0.037424\n",
       "PLZ8_GBZ                -0.037070\n",
       "BALLRAUM                -0.035600\n",
       "GEBAEUDETYP_RASTER      -0.029351\n",
       "MOBI_REGIO              -0.027554\n",
       "KBA05_GBZ               -0.025087\n",
       "WOHNLAGE                -0.024413\n",
       "HH_EINKOMMEN_SCORE      -0.022663\n",
       "KBA13_ANZAHL_PKW        -0.022458\n",
       "KBA05_ANTG1             -0.021071\n",
       "HEALTH_TYP              -0.019810\n",
       "MIN_GEBAEUDEJAHR        -0.017240\n",
       "KKK                     -0.015316\n",
       "OST_WEST_KZ             -0.013598\n",
       "                           ...   \n",
       "PLZ8_HHZ                 0.004836\n",
       "KBA05_ANTG3              0.006918\n",
       "ANZ_TITEL                0.009978\n",
       "ANZ_HH_TITEL             0.012992\n",
       "VERS_TYP                 0.014750\n",
       "ANZ_HAUSHALTE_AKTIV      0.023872\n",
       "WEALTH                   0.024840\n",
       "KBA05_ANTG4              0.025807\n",
       "PLZ8_ANTG2               0.030124\n",
       "RELAT_AB                 0.031687\n",
       "WOHNDAUER_2008           0.032993\n",
       "ARBEIT                   0.034446\n",
       "PLZ8_ANTG3               0.044476\n",
       "PLZ8_ANTG4               0.044583\n",
       "EWDICHTE                 0.047310\n",
       "ORTSGR_KLS9              0.048011\n",
       "MOVEMENT                 0.049287\n",
       "GREEN_AVANTGARDE         0.051511\n",
       "SEMIO_MAT                0.054680\n",
       "SEMIO_LUST               0.064264\n",
       "SEMIO_REL                0.070394\n",
       "ALTERSKATEGORIE_GROB     0.078507\n",
       "W_KEIT_KIND_HH           0.088179\n",
       "FINANZ_VORSORGER         0.100324\n",
       "RETOURTYP_BK_S           0.108977\n",
       "FINANZ_MINIMALIST        0.157661\n",
       "SEMIO_KULT               0.234216\n",
       "SEMIO_FAM                0.250083\n",
       "SEMIO_SOZ                0.263427\n",
       "SEMIO_VERT               0.346607\n",
       "Name: 2, Length: 65, dtype: float64"
      ]
     },
     "execution_count": 242,
     "metadata": {},
     "output_type": "execute_result"
    }
   ],
   "source": [
    "feature_select[2].sort_values()"
   ]
  },
  {
   "cell_type": "markdown",
   "metadata": {},
   "source": [
    "### Discussion 3.3: Compare Customer Data to Demographics Data\n",
    "\n",
    "After studying the correlations and the afinity of the data, we can deduce:\n",
    "- categories (like 8) are overrepresented\n",
    "- categories (like 2) are underrepresented\n",
    "\n",
    "**NOTES:**\n",
    "- persons who are materialistic, purchasing power and sharing employement with community are overrepresented.\n",
    "- persons who are dreamful, their movement affects them, share of unemployment in community are considered underrepresented.\n",
    "\n"
   ]
  },
  {
   "cell_type": "markdown",
   "metadata": {},
   "source": [
    "> Congratulations on making it this far in the project! Before you finish, make sure to check through the entire notebook from top to bottom to make sure that your analysis follows a logical flow and all of your findings are documented in **Discussion** cells. Once you've checked over all of your work, you should export the notebook as an HTML document to submit for evaluation. You can do this from the menu, navigating to **File -> Download as -> HTML (.html)**. You will submit both that document and this notebook for your project submission."
   ]
  },
  {
   "cell_type": "code",
   "execution_count": null,
   "metadata": {},
   "outputs": [],
   "source": []
  }
 ],
 "metadata": {
  "kernelspec": {
   "display_name": "Python 3",
   "language": "python",
   "name": "python3"
  },
  "language_info": {
   "codemirror_mode": {
    "name": "ipython",
    "version": 3
   },
   "file_extension": ".py",
   "mimetype": "text/x-python",
   "name": "python",
   "nbconvert_exporter": "python",
   "pygments_lexer": "ipython3",
   "version": "3.6.3"
  }
 },
 "nbformat": 4,
 "nbformat_minor": 2
}
